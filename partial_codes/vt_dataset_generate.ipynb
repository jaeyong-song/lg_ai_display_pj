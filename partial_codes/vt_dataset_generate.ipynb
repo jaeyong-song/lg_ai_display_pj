{
 "cells": [
  {
   "cell_type": "markdown",
   "metadata": {},
   "source": [
    "# Make Vt Datasets\n",
    "Vt = F(W,L,Vgs,Vds,T,Ids) (Ids is optional)"
   ]
  },
  {
   "cell_type": "markdown",
   "metadata": {},
   "source": [
    "In saturation point, Vt = Vgs-Vds.\\\n",
    "Let's assume we find saturation point by finding elbow point.\\\n",
    "For each (W,L,T,Vgs) dataset, we can find the elbow point from (Vds, Ids) curve."
   ]
  },
  {
   "cell_type": "markdown",
   "metadata": {},
   "source": [
    "## Briefly look data structure"
   ]
  },
  {
   "cell_type": "code",
   "execution_count": 11,
   "metadata": {},
   "outputs": [],
   "source": [
    "import pandas as pd\n",
    "import matplotlib.pyplot as plt\n",
    "import numpy as np"
   ]
  },
  {
   "cell_type": "code",
   "execution_count": 12,
   "metadata": {},
   "outputs": [
    {
     "data": {
      "text/html": [
       "<div>\n",
       "<style scoped>\n",
       "    .dataframe tbody tr th:only-of-type {\n",
       "        vertical-align: middle;\n",
       "    }\n",
       "\n",
       "    .dataframe tbody tr th {\n",
       "        vertical-align: top;\n",
       "    }\n",
       "\n",
       "    .dataframe thead th {\n",
       "        text-align: right;\n",
       "    }\n",
       "</style>\n",
       "<table border=\"1\" class=\"dataframe\">\n",
       "  <thead>\n",
       "    <tr style=\"text-align: right;\">\n",
       "      <th></th>\n",
       "      <th>Vds</th>\n",
       "      <th>Vgs</th>\n",
       "      <th>Ids</th>\n",
       "      <th>W</th>\n",
       "      <th>L</th>\n",
       "      <th>T</th>\n",
       "    </tr>\n",
       "  </thead>\n",
       "  <tbody>\n",
       "    <tr>\n",
       "      <th>0</th>\n",
       "      <td>0.1</td>\n",
       "      <td>-20.0</td>\n",
       "      <td>7.510100e-14</td>\n",
       "      <td>10</td>\n",
       "      <td>5</td>\n",
       "      <td>25</td>\n",
       "    </tr>\n",
       "    <tr>\n",
       "      <th>1</th>\n",
       "      <td>0.1</td>\n",
       "      <td>-19.8</td>\n",
       "      <td>7.510100e-14</td>\n",
       "      <td>10</td>\n",
       "      <td>5</td>\n",
       "      <td>25</td>\n",
       "    </tr>\n",
       "    <tr>\n",
       "      <th>2</th>\n",
       "      <td>0.1</td>\n",
       "      <td>-19.6</td>\n",
       "      <td>7.510100e-14</td>\n",
       "      <td>10</td>\n",
       "      <td>5</td>\n",
       "      <td>25</td>\n",
       "    </tr>\n",
       "    <tr>\n",
       "      <th>3</th>\n",
       "      <td>0.1</td>\n",
       "      <td>-19.4</td>\n",
       "      <td>7.510100e-14</td>\n",
       "      <td>10</td>\n",
       "      <td>5</td>\n",
       "      <td>25</td>\n",
       "    </tr>\n",
       "    <tr>\n",
       "      <th>4</th>\n",
       "      <td>0.1</td>\n",
       "      <td>-19.2</td>\n",
       "      <td>7.510100e-14</td>\n",
       "      <td>10</td>\n",
       "      <td>5</td>\n",
       "      <td>25</td>\n",
       "    </tr>\n",
       "  </tbody>\n",
       "</table>\n",
       "</div>"
      ],
      "text/plain": [
       "   Vds   Vgs           Ids   W  L   T\n",
       "0  0.1 -20.0  7.510100e-14  10  5  25\n",
       "1  0.1 -19.8  7.510100e-14  10  5  25\n",
       "2  0.1 -19.6  7.510100e-14  10  5  25\n",
       "3  0.1 -19.4  7.510100e-14  10  5  25\n",
       "4  0.1 -19.2  7.510100e-14  10  5  25"
      ]
     },
     "execution_count": 12,
     "metadata": {},
     "output_type": "execute_result"
    }
   ],
   "source": [
    "sample_data = pd.read_csv('./data/W10L5T25.csv')\n",
    "sample_data.head()"
   ]
  },
  {
   "cell_type": "code",
   "execution_count": 13,
   "metadata": {},
   "outputs": [
    {
     "data": {
      "text/html": [
       "<div>\n",
       "<style scoped>\n",
       "    .dataframe tbody tr th:only-of-type {\n",
       "        vertical-align: middle;\n",
       "    }\n",
       "\n",
       "    .dataframe tbody tr th {\n",
       "        vertical-align: top;\n",
       "    }\n",
       "\n",
       "    .dataframe thead th {\n",
       "        text-align: right;\n",
       "    }\n",
       "</style>\n",
       "<table border=\"1\" class=\"dataframe\">\n",
       "  <thead>\n",
       "    <tr style=\"text-align: right;\">\n",
       "      <th></th>\n",
       "      <th>Vgs</th>\n",
       "      <th>Vds</th>\n",
       "      <th>Ids</th>\n",
       "    </tr>\n",
       "  </thead>\n",
       "  <tbody>\n",
       "    <tr>\n",
       "      <th>0</th>\n",
       "      <td>-20.0</td>\n",
       "      <td>0.1</td>\n",
       "      <td>7.510100e-14</td>\n",
       "    </tr>\n",
       "    <tr>\n",
       "      <th>1</th>\n",
       "      <td>-19.8</td>\n",
       "      <td>0.1</td>\n",
       "      <td>7.510100e-14</td>\n",
       "    </tr>\n",
       "    <tr>\n",
       "      <th>2</th>\n",
       "      <td>-19.6</td>\n",
       "      <td>0.1</td>\n",
       "      <td>7.510100e-14</td>\n",
       "    </tr>\n",
       "    <tr>\n",
       "      <th>3</th>\n",
       "      <td>-19.4</td>\n",
       "      <td>0.1</td>\n",
       "      <td>7.510100e-14</td>\n",
       "    </tr>\n",
       "    <tr>\n",
       "      <th>4</th>\n",
       "      <td>-19.2</td>\n",
       "      <td>0.1</td>\n",
       "      <td>7.510100e-14</td>\n",
       "    </tr>\n",
       "  </tbody>\n",
       "</table>\n",
       "</div>"
      ],
      "text/plain": [
       "    Vgs  Vds           Ids\n",
       "0 -20.0  0.1  7.510100e-14\n",
       "1 -19.8  0.1  7.510100e-14\n",
       "2 -19.6  0.1  7.510100e-14\n",
       "3 -19.4  0.1  7.510100e-14\n",
       "4 -19.2  0.1  7.510100e-14"
      ]
     },
     "execution_count": 13,
     "metadata": {},
     "output_type": "execute_result"
    }
   ],
   "source": [
    "sample_data_for_vds_ids = sample_data[['Vgs', 'Vds', 'Ids']]\n",
    "sample_data_for_vds_ids.head()"
   ]
  },
  {
   "cell_type": "code",
   "execution_count": 14,
   "metadata": {},
   "outputs": [
    {
     "data": {
      "text/plain": [
       "201"
      ]
     },
     "execution_count": 14,
     "metadata": {},
     "output_type": "execute_result"
    }
   ],
   "source": [
    "len(sample_data_for_vds_ids['Vgs'].unique())"
   ]
  },
  {
   "cell_type": "markdown",
   "metadata": {},
   "source": [
    "## Find saturation point"
   ]
  },
  {
   "cell_type": "markdown",
   "metadata": {},
   "source": [
    "Reference: https://stackoverflow.com/questions/39840030/distance-between-point-and-a-line-from-two-points"
   ]
  },
  {
   "cell_type": "code",
   "execution_count": 15,
   "metadata": {},
   "outputs": [],
   "source": [
    "saturation_point_dict = {}\n",
    "saturation_point_list = []\n",
    "vgs_index = sample_data_for_vds_ids['Vgs'].unique()\n",
    "for vgs in vgs_index:\n",
    "    vds_ids_part = sample_data_for_vds_ids.query('Vgs=='+str(vgs))\n",
    "    p1 = vds_ids_part.query('Vds==0.1')[['Ids', 'Vds']].values\n",
    "    p2 = vds_ids_part.query('Vds==30')[['Ids', 'Vds']].values\n",
    "\n",
    "    max_dist = -99\n",
    "    for vds in vds_ids_part['Vds'].unique():\n",
    "        p3 = vds_ids_part.query('Vds=='+str(vds))[['Ids', 'Vds']].values\n",
    "        current_dist = np.linalg.norm(np.cross(p2-p1, p1-p3))/np.linalg.norm(p2-p1)\n",
    "        if current_dist > max_dist:\n",
    "            max_dist = current_dist\n",
    "            elbow_point = p3\n",
    "    saturation_point_dict[vgs] = elbow_point[0][1]\n",
    "    # Vt = F(W,L,T,Vgs,Vds,Ids)\n",
    "    saturation_point_list.append(((vgs-elbow_point[0][1]), '10', '5', '25', vgs, elbow_point[0][1], elbow_point[0][0]))"
   ]
  },
  {
   "cell_type": "code",
   "execution_count": 16,
   "metadata": {},
   "outputs": [
    {
     "data": {
      "text/plain": [
       "201"
      ]
     },
     "execution_count": 16,
     "metadata": {},
     "output_type": "execute_result"
    }
   ],
   "source": [
    "len(saturation_point_list)"
   ]
  },
  {
   "cell_type": "code",
   "execution_count": 17,
   "metadata": {},
   "outputs": [
    {
     "data": {
      "text/plain": [
       "[(-21.0, '10', '5', '25', -20.0, 1.0, 7.6666e-14),\n",
       " (-20.8, '10', '5', '25', -19.8, 1.0, 7.6666e-14),\n",
       " (-20.6, '10', '5', '25', -19.6, 1.0, 7.6666e-14),\n",
       " (-20.4, '10', '5', '25', -19.4, 1.0, 7.6666e-14),\n",
       " (-20.2, '10', '5', '25', -19.2, 1.0, 7.6666e-14)]"
      ]
     },
     "execution_count": 17,
     "metadata": {},
     "output_type": "execute_result"
    }
   ],
   "source": [
    "saturation_point_list[0:5]"
   ]
  },
  {
   "cell_type": "code",
   "execution_count": 18,
   "metadata": {},
   "outputs": [],
   "source": [
    "# Make above function as method\n",
    "def get_saturation_point_list(width, length, temperature):\n",
    "    saturation_point_list = []\n",
    "    data = pd.read_csv('./data/'+ 'W' + str(width) + 'L' + str(length) + 'T' + str(temperature) + '.csv')\n",
    "    data_for_vds_ids = data[['Vgs', 'Vds', 'Ids']]\n",
    "    vgs_index = data_for_vds_ids['Vgs'].unique()\n",
    "    for vgs in vgs_index:\n",
    "        vds_ids_part = data_for_vds_ids.query('Vgs=='+str(vgs))\n",
    "        p1 = vds_ids_part.query('Vds==0.1')[['Ids', 'Vds']].values\n",
    "        p2 = vds_ids_part.query('Vds==30')[['Ids', 'Vds']].values\n",
    "\n",
    "        max_dist = -99\n",
    "        for vds in vds_ids_part['Vds'].unique():\n",
    "            p3 = vds_ids_part.query('Vds=='+str(vds))[['Ids', 'Vds']].values\n",
    "            current_dist = np.linalg.norm(np.cross(p2-p1, p1-p3))/np.linalg.norm(p2-p1)\n",
    "            if current_dist > max_dist:\n",
    "                max_dist = current_dist\n",
    "                elbow_point = p3\n",
    "        # Vt = F(W,L,T,Vgs,Vds,Ids)\n",
    "        saturation_point_list.append([(vgs-elbow_point[0][1]), width, length, temperature, vgs, elbow_point[0][1], elbow_point[0][0]])\n",
    "    return saturation_point_list"
   ]
  },
  {
   "cell_type": "markdown",
   "metadata": {},
   "source": [
    "## Get Vt dataset\n",
    "At saturation point,\\\n",
    "Save Vt(Vgs-Vds) = F(W,L,T,Vgs,Vds,Ids) as appropriate format."
   ]
  },
  {
   "cell_type": "markdown",
   "metadata": {},
   "source": [
    "### 1) List all cases of W,L,T"
   ]
  },
  {
   "cell_type": "code",
   "execution_count": 19,
   "metadata": {},
   "outputs": [],
   "source": [
    "WIDTHS = [10, 20, 35, 50, 100, 1000]\n",
    "LENGTHS = [5, 8, 10, 12]\n",
    "TEMPS = [0, 25, 80]"
   ]
  },
  {
   "cell_type": "markdown",
   "metadata": {},
   "source": [
    "## 2) Call method and get all saturation point list from whole datasets"
   ]
  },
  {
   "cell_type": "code",
   "execution_count": 20,
   "metadata": {},
   "outputs": [
    {
     "data": {
      "text/plain": [
       "14472"
      ]
     },
     "execution_count": 20,
     "metadata": {},
     "output_type": "execute_result"
    }
   ],
   "source": [
    "total_saturation_point_list = []\n",
    "for width in WIDTHS:\n",
    "    for length in LENGTHS:\n",
    "        for temperature in TEMPS:\n",
    "            total_saturation_point_list += get_saturation_point_list(width, length, temperature)\n",
    "\n",
    "len(total_saturation_point_list)"
   ]
  },
  {
   "cell_type": "code",
   "execution_count": 22,
   "metadata": {},
   "outputs": [
    {
     "data": {
      "text/html": [
       "<div>\n",
       "<style scoped>\n",
       "    .dataframe tbody tr th:only-of-type {\n",
       "        vertical-align: middle;\n",
       "    }\n",
       "\n",
       "    .dataframe tbody tr th {\n",
       "        vertical-align: top;\n",
       "    }\n",
       "\n",
       "    .dataframe thead th {\n",
       "        text-align: right;\n",
       "    }\n",
       "</style>\n",
       "<table border=\"1\" class=\"dataframe\">\n",
       "  <thead>\n",
       "    <tr style=\"text-align: right;\">\n",
       "      <th></th>\n",
       "      <th>Vt</th>\n",
       "      <th>W</th>\n",
       "      <th>L</th>\n",
       "      <th>T</th>\n",
       "      <th>Vgs</th>\n",
       "      <th>Vds</th>\n",
       "      <th>Ids</th>\n",
       "    </tr>\n",
       "  </thead>\n",
       "  <tbody>\n",
       "    <tr>\n",
       "      <th>0</th>\n",
       "      <td>-21.0</td>\n",
       "      <td>10</td>\n",
       "      <td>5</td>\n",
       "      <td>0</td>\n",
       "      <td>-20.0</td>\n",
       "      <td>1.0</td>\n",
       "      <td>9.562200e-15</td>\n",
       "    </tr>\n",
       "    <tr>\n",
       "      <th>1</th>\n",
       "      <td>-20.8</td>\n",
       "      <td>10</td>\n",
       "      <td>5</td>\n",
       "      <td>0</td>\n",
       "      <td>-19.8</td>\n",
       "      <td>1.0</td>\n",
       "      <td>9.562200e-15</td>\n",
       "    </tr>\n",
       "    <tr>\n",
       "      <th>2</th>\n",
       "      <td>-20.6</td>\n",
       "      <td>10</td>\n",
       "      <td>5</td>\n",
       "      <td>0</td>\n",
       "      <td>-19.6</td>\n",
       "      <td>1.0</td>\n",
       "      <td>9.562200e-15</td>\n",
       "    </tr>\n",
       "    <tr>\n",
       "      <th>3</th>\n",
       "      <td>-20.4</td>\n",
       "      <td>10</td>\n",
       "      <td>5</td>\n",
       "      <td>0</td>\n",
       "      <td>-19.4</td>\n",
       "      <td>1.0</td>\n",
       "      <td>9.562200e-15</td>\n",
       "    </tr>\n",
       "    <tr>\n",
       "      <th>4</th>\n",
       "      <td>-20.2</td>\n",
       "      <td>10</td>\n",
       "      <td>5</td>\n",
       "      <td>0</td>\n",
       "      <td>-19.2</td>\n",
       "      <td>1.0</td>\n",
       "      <td>9.562200e-15</td>\n",
       "    </tr>\n",
       "  </tbody>\n",
       "</table>\n",
       "</div>"
      ],
      "text/plain": [
       "     Vt   W  L  T   Vgs  Vds           Ids\n",
       "0 -21.0  10  5  0 -20.0  1.0  9.562200e-15\n",
       "1 -20.8  10  5  0 -19.8  1.0  9.562200e-15\n",
       "2 -20.6  10  5  0 -19.6  1.0  9.562200e-15\n",
       "3 -20.4  10  5  0 -19.4  1.0  9.562200e-15\n",
       "4 -20.2  10  5  0 -19.2  1.0  9.562200e-15"
      ]
     },
     "execution_count": 22,
     "metadata": {},
     "output_type": "execute_result"
    }
   ],
   "source": [
    "vt_dataframe = pd.DataFrame(total_saturation_point_list, columns=['Vt', 'W', 'L', 'T', 'Vgs', 'Vds', 'Ids'])\n",
    "vt_dataframe.head()"
   ]
  },
  {
   "cell_type": "markdown",
   "metadata": {},
   "source": [
    "## 3) Save Vt dataset dataframe into CSV"
   ]
  },
  {
   "cell_type": "code",
   "execution_count": 25,
   "metadata": {},
   "outputs": [],
   "source": [
    "vt_dataframe.to_csv('./data_vt/vt_dataset.csv', index=False)"
   ]
  }
 ],
 "metadata": {
  "interpreter": {
   "hash": "7f2169d4fe978d8644874b5f8af71eb9b781f5362ef95768a13f51153ce35007"
  },
  "kernelspec": {
   "display_name": "Python 3.8.12 ('base')",
   "language": "python",
   "name": "python3"
  },
  "language_info": {
   "codemirror_mode": {
    "name": "ipython",
    "version": 3
   },
   "file_extension": ".py",
   "mimetype": "text/x-python",
   "name": "python",
   "nbconvert_exporter": "python",
   "pygments_lexer": "ipython3",
   "version": "3.8.12"
  },
  "orig_nbformat": 4
 },
 "nbformat": 4,
 "nbformat_minor": 2
}
