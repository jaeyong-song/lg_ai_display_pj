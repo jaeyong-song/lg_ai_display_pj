{
 "cells": [
  {
   "cell_type": "markdown",
   "metadata": {},
   "source": [
    "# Make Vt dataset from, Ids-Vgs Curve"
   ]
  },
  {
   "cell_type": "code",
   "execution_count": 1,
   "metadata": {},
   "outputs": [],
   "source": [
    "import pandas as pd\n",
    "import matplotlib.pyplot as plt\n",
    "import numpy as np\n",
    "import math"
   ]
  },
  {
   "cell_type": "code",
   "execution_count": 2,
   "metadata": {},
   "outputs": [
    {
     "data": {
      "text/html": [
       "<div>\n",
       "<style scoped>\n",
       "    .dataframe tbody tr th:only-of-type {\n",
       "        vertical-align: middle;\n",
       "    }\n",
       "\n",
       "    .dataframe tbody tr th {\n",
       "        vertical-align: top;\n",
       "    }\n",
       "\n",
       "    .dataframe thead th {\n",
       "        text-align: right;\n",
       "    }\n",
       "</style>\n",
       "<table border=\"1\" class=\"dataframe\">\n",
       "  <thead>\n",
       "    <tr style=\"text-align: right;\">\n",
       "      <th></th>\n",
       "      <th>Vds</th>\n",
       "      <th>Vgs</th>\n",
       "      <th>Ids</th>\n",
       "      <th>W</th>\n",
       "      <th>L</th>\n",
       "      <th>T</th>\n",
       "    </tr>\n",
       "  </thead>\n",
       "  <tbody>\n",
       "    <tr>\n",
       "      <th>0</th>\n",
       "      <td>0.1</td>\n",
       "      <td>-20.0</td>\n",
       "      <td>7.510100e-14</td>\n",
       "      <td>10</td>\n",
       "      <td>5</td>\n",
       "      <td>25</td>\n",
       "    </tr>\n",
       "    <tr>\n",
       "      <th>1</th>\n",
       "      <td>0.1</td>\n",
       "      <td>-19.8</td>\n",
       "      <td>7.510100e-14</td>\n",
       "      <td>10</td>\n",
       "      <td>5</td>\n",
       "      <td>25</td>\n",
       "    </tr>\n",
       "    <tr>\n",
       "      <th>2</th>\n",
       "      <td>0.1</td>\n",
       "      <td>-19.6</td>\n",
       "      <td>7.510100e-14</td>\n",
       "      <td>10</td>\n",
       "      <td>5</td>\n",
       "      <td>25</td>\n",
       "    </tr>\n",
       "    <tr>\n",
       "      <th>3</th>\n",
       "      <td>0.1</td>\n",
       "      <td>-19.4</td>\n",
       "      <td>7.510100e-14</td>\n",
       "      <td>10</td>\n",
       "      <td>5</td>\n",
       "      <td>25</td>\n",
       "    </tr>\n",
       "    <tr>\n",
       "      <th>4</th>\n",
       "      <td>0.1</td>\n",
       "      <td>-19.2</td>\n",
       "      <td>7.510100e-14</td>\n",
       "      <td>10</td>\n",
       "      <td>5</td>\n",
       "      <td>25</td>\n",
       "    </tr>\n",
       "  </tbody>\n",
       "</table>\n",
       "</div>"
      ],
      "text/plain": [
       "   Vds   Vgs           Ids   W  L   T\n",
       "0  0.1 -20.0  7.510100e-14  10  5  25\n",
       "1  0.1 -19.8  7.510100e-14  10  5  25\n",
       "2  0.1 -19.6  7.510100e-14  10  5  25\n",
       "3  0.1 -19.4  7.510100e-14  10  5  25\n",
       "4  0.1 -19.2  7.510100e-14  10  5  25"
      ]
     },
     "execution_count": 2,
     "metadata": {},
     "output_type": "execute_result"
    }
   ],
   "source": [
    "W=10\n",
    "L=5\n",
    "T=25\n",
    "full_df = pd.read_csv('../data/W10L5T25.csv')\n",
    "full_df.head()"
   ]
  },
  {
   "cell_type": "code",
   "execution_count": 3,
   "metadata": {},
   "outputs": [
    {
     "data": {
      "text/plain": [
       "201"
      ]
     },
     "execution_count": 3,
     "metadata": {},
     "output_type": "execute_result"
    }
   ],
   "source": [
    "vgs_list = full_df['Vgs'].unique()\n",
    "len(vgs_list)"
   ]
  },
  {
   "cell_type": "code",
   "execution_count": 4,
   "metadata": {},
   "outputs": [
    {
     "data": {
      "text/plain": [
       "6"
      ]
     },
     "execution_count": 4,
     "metadata": {},
     "output_type": "execute_result"
    }
   ],
   "source": [
    "vds_list = full_df['Vds'].unique()\n",
    "len(vds_list)"
   ]
  },
  {
   "cell_type": "code",
   "execution_count": 5,
   "metadata": {},
   "outputs": [
    {
     "data": {
      "image/png": "[encoded data removed]",
      "text/plain": [
       "<Figure size 432x288 with 1 Axes>"
      ]
     },
     "metadata": {
      "needs_background": "light"
     },
     "output_type": "display_data"
    }
   ],
   "source": [
    "for vds in vds_list:\n",
    "    plt.plot(full_df.query('Vds=='+str(vds))['Vgs'], full_df.query('Vds=='+str(vds))['Ids'], label=vds)\n",
    "    plt.xlabel('Vgs')\n",
    "    plt.ylabel('Ids')\n",
    "    plt.axhline(y = 1e-8*W/L, color = 'r', linestyle = '-')\n",
    "    plt.legend(bbox_to_anchor=(1,1), loc='upper left', title='Vds')\n",
    "    plt.title('Ids-Vgs')"
   ]
  },
  {
   "cell_type": "code",
   "execution_count": 6,
   "metadata": {},
   "outputs": [
    {
     "data": {
      "image/png": "[encoded data removed]",
      "text/plain": [
       "<Figure size 432x288 with 1 Axes>"
      ]
     },
     "metadata": {
      "needs_background": "light"
     },
     "output_type": "display_data"
    }
   ],
   "source": [
    "for vds in vds_list:\n",
    "    plt.plot(full_df.query('Vds=='+str(vds))['Vgs'], full_df.query('Vds=='+str(vds))['Ids'], label=vds)\n",
    "    plt.xlabel('Vgs')\n",
    "    plt.ylabel('Ids')\n",
    "    plt.yscale('log')\n",
    "    plt.axhline(y = 1e-8*W/L, color = 'r', linestyle = '-')\n",
    "    plt.legend(bbox_to_anchor=(1,1), loc='upper left', title='Vds')\n",
    "    plt.title('Ids-Vgs')"
   ]
  },
  {
   "cell_type": "markdown",
   "metadata": {},
   "source": [
    "## Find Vth (threshold) point"
   ]
  },
  {
   "cell_type": "code",
   "execution_count": 7,
   "metadata": {},
   "outputs": [
    {
     "data": {
      "text/plain": [
       "[[0.1, 1.0, 2.4687e-08, 10, 5, 25],\n",
       " [1.0, 0.6, 2.1353e-08, 10, 5, 25],\n",
       " [5.0, 0.6, 2.4018e-08, 10, 5, 25],\n",
       " [10.0, 0.6, 3.0986e-08, 10, 5, 25],\n",
       " [20.0, 0.4, 2.5735e-08, 10, 5, 25],\n",
       " [30.0, -3.7581e-14, 1.2602e-08, 10, 5, 25]]"
      ]
     },
     "execution_count": 7,
     "metadata": {},
     "output_type": "execute_result"
    }
   ],
   "source": [
    "v_threshold_point_list = []\n",
    "std_value = [math.log(1e-8*W/L)]\n",
    "for vds in vds_list:\n",
    "    min_dist = 99\n",
    "    v_threshold = -100\n",
    "    ids_threshold = -100\n",
    "    for vgs in vgs_list:\n",
    "        point_ids = full_df.query('(Vds=='+str(vds)+') and (Vgs=='+str(vgs)+')')['Ids'].values[0]\n",
    "        current_dist = math.dist(std_value, [math.log(point_ids)])\n",
    "        if current_dist < min_dist:\n",
    "            min_dist = current_dist\n",
    "            v_threshold = vgs\n",
    "            ids_threshold = point_ids\n",
    "    v_threshold_point_list.append([vds, v_threshold, ids_threshold, W, L, T])\n",
    "v_threshold_point_list"
   ]
  },
  {
   "cell_type": "code",
   "execution_count": 8,
   "metadata": {},
   "outputs": [],
   "source": [
    "def get_vt_point_list(width, length, temperature):\n",
    "    v_threshold_point_list = []\n",
    "    std_value = [math.log(1e-8*width/length)]\n",
    "    df = pd.read_csv('../data/'+ 'W' + str(width) + 'L' + str(length) + 'T' + str(temperature) + '.csv')\n",
    "    vds_list = df['Vds'].unique()\n",
    "    vgs_list = df['Vgs'].unique()\n",
    "    for vds in vds_list:\n",
    "        min_dist = 99\n",
    "        v_threshold = -100\n",
    "        ids_threshold = -100\n",
    "        for vgs in vgs_list:\n",
    "            point_ids = df.query('(Vds=='+str(vds)+') and (Vgs=='+str(vgs)+')')['Ids'].values[0]\n",
    "            current_dist = math.dist(std_value, [math.log(point_ids)])\n",
    "            if current_dist < min_dist:\n",
    "                min_dist = current_dist\n",
    "                v_threshold = vgs\n",
    "                ids_threshold = point_ids\n",
    "        v_threshold_point_list.append([vds, v_threshold, ids_threshold, width, length, temperature])\n",
    "    return v_threshold_point_list"
   ]
  },
  {
   "cell_type": "code",
   "execution_count": 9,
   "metadata": {},
   "outputs": [],
   "source": [
    "WIDTHS = [10, 20, 35, 50, 100, 1000]\n",
    "LENGTHS = [5, 8, 10, 12]\n",
    "TEMPS = [0, 25, 80]"
   ]
  },
  {
   "cell_type": "code",
   "execution_count": 10,
   "metadata": {},
   "outputs": [
    {
     "data": {
      "text/plain": [
       "432"
      ]
     },
     "execution_count": 10,
     "metadata": {},
     "output_type": "execute_result"
    }
   ],
   "source": [
    "total_v_threshold_point_list = []\n",
    "for width in WIDTHS:\n",
    "    for length in LENGTHS:\n",
    "        for temperature in TEMPS:\n",
    "            total_v_threshold_point_list += get_vt_point_list(width, length, temperature)\n",
    "len(total_v_threshold_point_list)"
   ]
  },
  {
   "cell_type": "code",
   "execution_count": 11,
   "metadata": {},
   "outputs": [
    {
     "data": {
      "text/html": [
       "<div>\n",
       "<style scoped>\n",
       "    .dataframe tbody tr th:only-of-type {\n",
       "        vertical-align: middle;\n",
       "    }\n",
       "\n",
       "    .dataframe tbody tr th {\n",
       "        vertical-align: top;\n",
       "    }\n",
       "\n",
       "    .dataframe thead th {\n",
       "        text-align: right;\n",
       "    }\n",
       "</style>\n",
       "<table border=\"1\" class=\"dataframe\">\n",
       "  <thead>\n",
       "    <tr style=\"text-align: right;\">\n",
       "      <th></th>\n",
       "      <th>Vds</th>\n",
       "      <th>Vgs</th>\n",
       "      <th>Ids</th>\n",
       "      <th>W</th>\n",
       "      <th>L</th>\n",
       "      <th>T</th>\n",
       "    </tr>\n",
       "  </thead>\n",
       "  <tbody>\n",
       "    <tr>\n",
       "      <th>0</th>\n",
       "      <td>0.1</td>\n",
       "      <td>1.0</td>\n",
       "      <td>2.555900e-08</td>\n",
       "      <td>10</td>\n",
       "      <td>5</td>\n",
       "      <td>0</td>\n",
       "    </tr>\n",
       "    <tr>\n",
       "      <th>1</th>\n",
       "      <td>1.0</td>\n",
       "      <td>0.6</td>\n",
       "      <td>2.024900e-08</td>\n",
       "      <td>10</td>\n",
       "      <td>5</td>\n",
       "      <td>0</td>\n",
       "    </tr>\n",
       "    <tr>\n",
       "      <th>2</th>\n",
       "      <td>5.0</td>\n",
       "      <td>0.6</td>\n",
       "      <td>2.271600e-08</td>\n",
       "      <td>10</td>\n",
       "      <td>5</td>\n",
       "      <td>0</td>\n",
       "    </tr>\n",
       "    <tr>\n",
       "      <th>3</th>\n",
       "      <td>10.0</td>\n",
       "      <td>0.6</td>\n",
       "      <td>2.948200e-08</td>\n",
       "      <td>10</td>\n",
       "      <td>5</td>\n",
       "      <td>0</td>\n",
       "    </tr>\n",
       "    <tr>\n",
       "      <th>4</th>\n",
       "      <td>20.0</td>\n",
       "      <td>0.4</td>\n",
       "      <td>2.438200e-08</td>\n",
       "      <td>10</td>\n",
       "      <td>5</td>\n",
       "      <td>0</td>\n",
       "    </tr>\n",
       "  </tbody>\n",
       "</table>\n",
       "</div>"
      ],
      "text/plain": [
       "    Vds  Vgs           Ids   W  L  T\n",
       "0   0.1  1.0  2.555900e-08  10  5  0\n",
       "1   1.0  0.6  2.024900e-08  10  5  0\n",
       "2   5.0  0.6  2.271600e-08  10  5  0\n",
       "3  10.0  0.6  2.948200e-08  10  5  0\n",
       "4  20.0  0.4  2.438200e-08  10  5  0"
      ]
     },
     "execution_count": 11,
     "metadata": {},
     "output_type": "execute_result"
    }
   ],
   "source": [
    "vt_dataframe = pd.DataFrame(total_v_threshold_point_list, columns=['Vds', 'Vgs', 'Ids', 'W', 'L', 'T'])\n",
    "vt_dataframe.head()"
   ]
  },
  {
   "cell_type": "code",
   "execution_count": 12,
   "metadata": {},
   "outputs": [],
   "source": [
    "vt_dataframe.to_csv('../data_vt/vt_dataset_rev.csv', index=False)"
   ]
  }
 ],
 "metadata": {
  "interpreter": {
   "hash": "3829caa72e4f00bfa838cc8791f96dc30ddd90ae454d4eaf3d8b7ab9877dcc00"
  },
  "kernelspec": {
   "display_name": "Python 3.10.4 ('lg_display')",
   "language": "python",
   "name": "python3"
  },
  "language_info": {
   "codemirror_mode": {
    "name": "ipython",
    "version": 3
   },
   "file_extension": ".py",
   "mimetype": "text/x-python",
   "name": "python",
   "nbconvert_exporter": "python",
   "pygments_lexer": "ipython3",
   "version": "3.10.4"
  },
  "orig_nbformat": 4
 },
 "nbformat": 4,
 "nbformat_minor": 2
}
