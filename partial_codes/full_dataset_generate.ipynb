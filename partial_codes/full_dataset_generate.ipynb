{
 "cells": [
  {
   "cell_type": "code",
   "execution_count": 1,
   "metadata": {},
   "outputs": [],
   "source": [
    "import pandas as pd\n",
    "import matplotlib.pyplot as plt\n",
    "import numpy as np"
   ]
  },
  {
   "cell_type": "code",
   "execution_count": 2,
   "metadata": {},
   "outputs": [],
   "source": [
    "WIDTHS = [10, 20, 35, 50, 100, 1000]\n",
    "LENGTHS = [5, 8, 10, 12]\n",
    "TEMPS = [0, 25, 80]"
   ]
  },
  {
   "cell_type": "code",
   "execution_count": 3,
   "metadata": {},
   "outputs": [],
   "source": [
    "total_df = None\n",
    "is_first = True\n",
    "\n",
    "for width in WIDTHS:\n",
    "    for length in LENGTHS:\n",
    "        for temperature in TEMPS:\n",
    "            cur_df = pd.read_csv('../data/'+'W'+str(width)+'L'+str(length)+'T'+str(temperature)+'.csv')\n",
    "            if is_first:\n",
    "                total_df = cur_df\n",
    "                is_first = False\n",
    "            else:\n",
    "                total_df = pd.concat([total_df, cur_df])"
   ]
  },
  {
   "cell_type": "code",
   "execution_count": 4,
   "metadata": {},
   "outputs": [],
   "source": [
    "total_df.to_csv('../data_full/full_dataset.csv', index=False)"
   ]
  }
 ],
 "metadata": {
  "interpreter": {
   "hash": "3829caa72e4f00bfa838cc8791f96dc30ddd90ae454d4eaf3d8b7ab9877dcc00"
  },
  "kernelspec": {
   "display_name": "Python 3.10.4 ('lg_display')",
   "language": "python",
   "name": "python3"
  },
  "language_info": {
   "codemirror_mode": {
    "name": "ipython",
    "version": 3
   },
   "file_extension": ".py",
   "mimetype": "text/x-python",
   "name": "python",
   "nbconvert_exporter": "python",
   "pygments_lexer": "ipython3",
   "version": "3.10.4"
  },
  "orig_nbformat": 4
 },
 "nbformat": 4,
 "nbformat_minor": 2
}
