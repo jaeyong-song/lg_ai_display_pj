{
 "cells": [
  {
   "cell_type": "markdown",
   "metadata": {},
   "source": [
    "## Training Full Model with Vt_Pretrained MLP Regression"
   ]
  },
  {
   "cell_type": "code",
   "execution_count": 1,
   "metadata": {
    "vscode": {
     "languageId": "markdown"
    }
   },
   "outputs": [],
   "source": [
    "import torch\n",
    "import pandas as pd\n",
    "import numpy as np\n",
    "from torch import nn\n",
    "from torch.utils.data import DataLoader\n",
    "from sklearn.preprocessing import StandardScaler\n",
    "from sklearn.preprocessing import MinMaxScaler"
   ]
  },
  {
   "cell_type": "code",
   "execution_count": 2,
   "metadata": {},
   "outputs": [],
   "source": [
    "if torch.cuda.is_available():\n",
    "    device = 'cuda:1'\n",
    "else:\n",
    "    device = 'cpu'"
   ]
  },
  {
   "cell_type": "markdown",
   "metadata": {},
   "source": [
    "## 1) Load Vt Model"
   ]
  },
  {
   "cell_type": "code",
   "execution_count": 3,
   "metadata": {},
   "outputs": [
    {
     "data": {
      "text/plain": [
       "VtMLP(\n",
       "  (layers): Sequential(\n",
       "    (0): Linear(in_features=5, out_features=64, bias=True)\n",
       "    (1): ReLU()\n",
       "    (2): Linear(in_features=64, out_features=32, bias=True)\n",
       "    (3): ReLU()\n",
       "    (4): Linear(in_features=32, out_features=1, bias=True)\n",
       "  )\n",
       ")"
      ]
     },
     "execution_count": 3,
     "metadata": {},
     "output_type": "execute_result"
    }
   ],
   "source": [
    "class VtMLP(nn.Module):\n",
    "  '''\n",
    "    Multilayer Perceptron for regression.\n",
    "  '''\n",
    "  def __init__(self):\n",
    "    super().__init__()\n",
    "    self.layers = nn.Sequential(\n",
    "      nn.Linear(5, 64),\n",
    "      nn.ReLU(),\n",
    "      nn.Linear(64, 32),\n",
    "      nn.ReLU(),\n",
    "      nn.Linear(32, 1)\n",
    "    )\n",
    "\n",
    "\n",
    "  def forward(self, x):\n",
    "    '''\n",
    "      Forward pass\n",
    "    '''\n",
    "    return self.layers(x)\n",
    "\n",
    "vt_model = VtMLP()\n",
    "vt_model.load_state_dict(torch.load('../checkpoint/vt_mlp_model.pt'))\n",
    "vt_model.eval() # we pretrained this model... so we'll use this model for inference"
   ]
  },
  {
   "cell_type": "markdown",
   "metadata": {},
   "source": [
    "## 2) Make dataset for model"
   ]
  },
  {
   "cell_type": "code",
   "execution_count": 4,
   "metadata": {},
   "outputs": [],
   "source": [
    "class FullWithVtDataset(torch.utils.data.Dataset):\n",
    "    def __init__(self, X, y, scale_data=True):\n",
    "        if not torch.is_tensor(X) and not torch.is_tensor(y):\n",
    "            if scale_data:\n",
    "                vt = vt_model(torch.Tensor(X)).detach().numpy()\n",
    "                X = np.concatenate([X, vt], 1)\n",
    "                self.scaler_x = StandardScaler().fit(X)\n",
    "                # self.scaler_y = StandardScaler().fit(y)\n",
    "                self.scaler_y = MinMaxScaler().fit(y)\n",
    "                X = self.scaler_x.transform(X)\n",
    "                y = self.scaler_y.transform(y)\n",
    "            self.X = torch.from_numpy(X)\n",
    "            self.y = torch.from_numpy(y)\n",
    "    \n",
    "    def __len__(self):\n",
    "        return len(self.X)\n",
    "    \n",
    "    def __getitem__(self, i):\n",
    "        return self.X[i], self.y[i]   "
   ]
  },
  {
   "cell_type": "code",
   "execution_count": 5,
   "metadata": {},
   "outputs": [
    {
     "data": {
      "text/plain": [
       "86832"
      ]
     },
     "execution_count": 5,
     "metadata": {},
     "output_type": "execute_result"
    }
   ],
   "source": [
    "full_df = pd.read_csv('../data_full/full_dataset.csv')\n",
    "len(full_df)\n"
   ]
  },
  {
   "cell_type": "code",
   "execution_count": 6,
   "metadata": {},
   "outputs": [
    {
     "name": "stdout",
     "output_type": "stream",
     "text": [
      "86832\n",
      "86832\n",
      "86832\n"
     ]
    }
   ],
   "source": [
    "full_X = full_df[['W','L','T','Vgs','Vds']].to_numpy()\n",
    "print(len(full_X))\n",
    "full_y = full_df[['Ids']].to_numpy()\n",
    "print(len(full_y))\n",
    "dataset = FullWithVtDataset(full_X, full_y)\n",
    "print(len(dataset))"
   ]
  },
  {
   "cell_type": "code",
   "execution_count": 7,
   "metadata": {},
   "outputs": [],
   "source": [
    "train_set, test_set = torch.utils.data.random_split(dataset, [69466,17366])\n",
    "train_loader = torch.utils.data.DataLoader(train_set, batch_size=32, shuffle=True, num_workers=1)\n",
    "test_loader = torch.utils.data.DataLoader(test_set, batch_size=32, shuffle=False, num_workers=1)"
   ]
  },
  {
   "cell_type": "markdown",
   "metadata": {},
   "source": [
    "## 3) Make Full Model"
   ]
  },
  {
   "cell_type": "code",
   "execution_count": 8,
   "metadata": {},
   "outputs": [],
   "source": [
    "class FullWithVtMLP(nn.Module):\n",
    "    '''\n",
    "    Multilayer Perceptron for regression.\n",
    "    '''\n",
    "    def __init__(self):\n",
    "        super().__init__()\n",
    "        self.layers = nn.Sequential(\n",
    "        nn.Linear(6, 128),\n",
    "        nn.ReLU(),\n",
    "        nn.Linear(128, 256),\n",
    "        nn.ReLU(),\n",
    "        nn.Linear(256, 128),\n",
    "        nn.ReLU(),\n",
    "        nn.Linear(128, 32),\n",
    "        nn.ReLU(),\n",
    "        nn.Linear(32, 1),\n",
    "        # nn.Softplus()\n",
    "        nn.Sigmoid()\n",
    "        )\n",
    "\n",
    "\n",
    "    def forward(self, x):\n",
    "        '''\n",
    "        Forward pass\n",
    "        '''\n",
    "        return self.layers(x)\n",
    "\n",
    "mlp = FullWithVtMLP().to(device)\n",
    "# mlp.load_state_dict(torch.load('../checkpoint/full_vt_mlp_model.pt'))"
   ]
  },
  {
   "cell_type": "markdown",
   "metadata": {},
   "source": [
    "## 4) Set Loss and Optim"
   ]
  },
  {
   "cell_type": "code",
   "execution_count": 9,
   "metadata": {},
   "outputs": [],
   "source": [
    "class NRMSELoss(nn.Module):\n",
    "    def __init__(self, eps=1e-8):\n",
    "        super().__init__()\n",
    "        self.eps = eps\n",
    "    def forward(self, y_hat, y):\n",
    "        log_abs_y_hat = torch.log(torch.abs(y_hat)+self.eps)\n",
    "        log_abs_y = torch.log(torch.abs(y)+self.eps)\n",
    "        log_abs_delta = log_abs_y_hat - log_abs_y\n",
    "        delta = y_hat - y\n",
    "        len_delta = y_hat.size(dim=0)\n",
    "        return torch.sqrt((1/len_delta)*torch.sum((log_abs_delta/(log_abs_y+self.eps))**2)) + torch.sqrt((1/len_delta)*torch.sum((delta/(y+self.eps))**2))\n",
    "\n",
    "# loss_function = NRMSELoss()\n",
    "loss_function = nn.MSELoss()\n",
    "# optimizer = torch.optim.Adam(mlp.parameters(), lr=1e-1)\n",
    "optimizer = torch.optim.SGD(mlp.parameters(), lr=1e-3, momentum=0.9)\n",
    "scheduler = torch.optim.lr_scheduler.CyclicLR(optimizer, base_lr=1e-3, \n",
    "                                              step_size_up=5, max_lr=1e-3, \n",
    "                                              gamma=0.5, mode='exp_range')"
   ]
  },
  {
   "cell_type": "markdown",
   "metadata": {},
   "source": [
    "## 5) Training"
   ]
  },
  {
   "cell_type": "code",
   "execution_count": 10,
   "metadata": {},
   "outputs": [
    {
     "name": "stdout",
     "output_type": "stream",
     "text": [
      "Starting epoch 1\n",
      "Loss after mini-batch     1: 8.528\n",
      "Loss after mini-batch  1001: 0.163\n",
      "Loss after mini-batch  2001: 0.083\n",
      "Starting epoch 2\n",
      "Loss after mini-batch     1: 0.013\n",
      "Loss after mini-batch  1001: 0.161\n",
      "Loss after mini-batch  2001: 0.084\n",
      "Starting epoch 3\n",
      "Loss after mini-batch     1: 0.130\n",
      "Loss after mini-batch  1001: 0.166\n",
      "Loss after mini-batch  2001: 0.082\n",
      "Starting epoch 4\n",
      "Loss after mini-batch     1: 0.181\n",
      "Loss after mini-batch  1001: 0.176\n",
      "Loss after mini-batch  2001: 0.076\n",
      "Starting epoch 5\n",
      "Loss after mini-batch     1: 0.006\n",
      "Loss after mini-batch  1001: 0.167\n",
      "Loss after mini-batch  2001: 0.086\n",
      "Starting epoch 6\n",
      "Loss after mini-batch     1: 0.541\n",
      "Loss after mini-batch  1001: 0.172\n",
      "Loss after mini-batch  2001: 0.079\n",
      "Starting epoch 7\n",
      "Loss after mini-batch     1: 0.234\n",
      "Loss after mini-batch  1001: 0.166\n",
      "Loss after mini-batch  2001: 0.085\n",
      "Starting epoch 8\n",
      "Loss after mini-batch     1: 0.019\n"
     ]
    }
   ],
   "source": [
    "# Run the training loop\n",
    "for epoch in range(0, 100): # 20 epochs at maximum\n",
    "    \n",
    "    # Print epoch\n",
    "    print(f'Starting epoch {epoch+1}')\n",
    "    \n",
    "    # Set current loss value\n",
    "    current_loss = 0.0\n",
    "    \n",
    "    # Iterate over the DataLoader for training data\n",
    "    for i, data in enumerate(train_loader, 0):\n",
    "        # Get and prepare inputs\n",
    "        inputs, targets = data\n",
    "        inputs, targets = inputs.float().to(device), targets.float().to(device)\n",
    "        targets = targets.reshape((targets.shape[0], 1))\n",
    "        \n",
    "        # Zero the gradients\n",
    "        optimizer.zero_grad()\n",
    "        \n",
    "        # Perform forward pass\n",
    "        outputs = mlp(inputs)\n",
    "        \n",
    "        # Compute loss\n",
    "        loss = loss_function(outputs, targets)\n",
    "        \n",
    "        # Perform backward pass\n",
    "        loss.backward()\n",
    "        \n",
    "        # Perform optimization\n",
    "        optimizer.step()\n",
    "        \n",
    "        # Print statistics\n",
    "        current_loss += loss.item()\n",
    "        if i % 1000 == 0:\n",
    "            print('Loss after mini-batch %5d: %.3f' %\n",
    "                (i + 1, current_loss / (i+1)*32))\n",
    "            current_loss = 0.0\n",
    "\n",
    "# Process is complete.\n",
    "print('Training process has finished.')"
   ]
  },
  {
   "cell_type": "code",
   "execution_count": null,
   "metadata": {},
   "outputs": [],
   "source": [
    "torch.save(mlp.state_dict(), '../checkpoint/full_vt_mlp_model_nrmse.pt')"
   ]
  },
  {
   "cell_type": "markdown",
   "metadata": {},
   "source": [
    "## 6) Evaluation"
   ]
  },
  {
   "cell_type": "code",
   "execution_count": null,
   "metadata": {},
   "outputs": [
    {
     "name": "stdout",
     "output_type": "stream",
     "text": [
      "[[2.1852458e-04]\n",
      " [1.5402334e-07]\n",
      " [5.6357106e-07]\n",
      " ...\n",
      " [1.0836208e-08]\n",
      " [1.0776585e-06]\n",
      " [5.5712473e-05]]\n",
      "[[7.6766002e-05]\n",
      " [2.6484999e-12]\n",
      " [5.2971004e-12]\n",
      " ...\n",
      " [5.2971004e-12]\n",
      " [7.6664998e-13]\n",
      " [1.0094000e-04]]\n",
      "tensor(1506.0887)\n"
     ]
    }
   ],
   "source": [
    "predictions = torch.tensor([], dtype=torch.float).to(device)\n",
    "actual = torch.tensor([], dtype=torch.float).to(device)\n",
    "with torch.no_grad():\n",
    "    mlp.eval()\n",
    "    for data in test_loader:\n",
    "        inputs, values = data\n",
    "        inputs, values = inputs.float().to(device), values.float().to(device)\n",
    "        values = values.reshape((values.shape[0], 1))\n",
    "\n",
    "        outputs = mlp(inputs)\n",
    "        # outputs = dataset.scaler_y.inverse_transform(outputs)\n",
    "        predictions = torch.cat((predictions, outputs), 0)\n",
    "        # values = dataset.scaler_y.inverse_transform(values)\n",
    "        actual = torch.cat((actual, values), 0)\n",
    "    \n",
    "predictions = predictions.cpu().numpy()\n",
    "actual = actual.cpu().numpy()\n",
    "\n",
    "eval_loss = NRMSELoss()\n",
    "\n",
    "predictions = dataset.scaler_y.inverse_transform(predictions)\n",
    "actual = dataset.scaler_y.inverse_transform(actual)\n",
    "\n",
    "nrmse = eval_loss(torch.tensor(predictions), torch.tensor(actual))\n",
    "\n",
    "print(predictions)\n",
    "print(actual)\n",
    "\n",
    "print(nrmse)"
   ]
  },
  {
   "cell_type": "markdown",
   "metadata": {},
   "source": []
  }
 ],
 "metadata": {
  "interpreter": {
   "hash": "3829caa72e4f00bfa838cc8791f96dc30ddd90ae454d4eaf3d8b7ab9877dcc00"
  },
  "kernelspec": {
   "display_name": "Python 3.10.4 ('lg_display')",
   "language": "python",
   "name": "python3"
  },
  "language_info": {
   "codemirror_mode": {
    "name": "ipython",
    "version": 3
   },
   "file_extension": ".py",
   "mimetype": "text/x-python",
   "name": "python",
   "nbconvert_exporter": "python",
   "pygments_lexer": "ipython3",
   "version": "3.10.4"
  },
  "orig_nbformat": 4
 },
 "nbformat": 4,
 "nbformat_minor": 2
}
