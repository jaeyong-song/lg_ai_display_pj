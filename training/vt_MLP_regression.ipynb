{
 "cells": [
  {
   "cell_type": "markdown",
   "metadata": {},
   "source": [
    "# Training Vt with Simple MLP Regression "
   ]
  },
  {
   "cell_type": "markdown",
   "metadata": {},
   "source": [
    "We found saturation points and use assumption that Vt = Vgs-Vds in saturation point.\\\n",
    "By using that fact, we made Vt datasets.\\\n",
    "Now we'll train model that...\\\n",
    "Vt = F(W,L,T,Vgs,Vds,Ids)"
   ]
  },
  {
   "cell_type": "code",
   "execution_count": 1,
   "metadata": {},
   "outputs": [],
   "source": [
    "import torch\n",
    "import pandas as pd\n",
    "import numpy as np\n",
    "from torch import nn\n",
    "from torch.utils.data import DataLoader\n",
    "from sklearn.preprocessing import StandardScaler"
   ]
  },
  {
   "cell_type": "markdown",
   "metadata": {},
   "source": [
    "## 1) Make dataset for Vt model"
   ]
  },
  {
   "cell_type": "code",
   "execution_count": 2,
   "metadata": {},
   "outputs": [],
   "source": [
    "class VtDataset(torch.utils.data.Dataset):\n",
    "    \"\"\"\n",
    "    Vt Dataset\n",
    "    \"\"\"\n",
    "    def __init__(self, X, y, scale_data=False):\n",
    "        if not torch.is_tensor(X) and not torch.is_tensor(y):\n",
    "            if scale_data:\n",
    "                X = StandardScaler().fit_transform(X)\n",
    "            self.X = torch.from_numpy(X)\n",
    "            self.y = torch.from_numpy(y)\n",
    "    \n",
    "    def __len__(self):\n",
    "        return len(self.X)\n",
    "    \n",
    "    def __getitem__(self, i):\n",
    "        return self.X[i], self.y[i]"
   ]
  },
  {
   "cell_type": "markdown",
   "metadata": {},
   "source": [
    "## 2) Make model"
   ]
  },
  {
   "cell_type": "code",
   "execution_count": 3,
   "metadata": {},
   "outputs": [],
   "source": [
    "class VtMLP(nn.Module):\n",
    "  '''\n",
    "    Multilayer Perceptron for regression.\n",
    "  '''\n",
    "  def __init__(self):\n",
    "    super().__init__()\n",
    "    self.layers = nn.Sequential(\n",
    "      nn.Linear(5, 64),\n",
    "      nn.ReLU(),\n",
    "      nn.Linear(64, 32),\n",
    "      nn.ReLU(),\n",
    "      nn.Linear(32, 1)\n",
    "    )\n",
    "\n",
    "\n",
    "  def forward(self, x):\n",
    "    '''\n",
    "      Forward pass\n",
    "    '''\n",
    "    return self.layers(x)"
   ]
  },
  {
   "cell_type": "markdown",
   "metadata": {},
   "source": [
    "## 3) Training"
   ]
  },
  {
   "cell_type": "code",
   "execution_count": 4,
   "metadata": {},
   "outputs": [
    {
     "data": {
      "text/html": [
       "<div>\n",
       "<style scoped>\n",
       "    .dataframe tbody tr th:only-of-type {\n",
       "        vertical-align: middle;\n",
       "    }\n",
       "\n",
       "    .dataframe tbody tr th {\n",
       "        vertical-align: top;\n",
       "    }\n",
       "\n",
       "    .dataframe thead th {\n",
       "        text-align: right;\n",
       "    }\n",
       "</style>\n",
       "<table border=\"1\" class=\"dataframe\">\n",
       "  <thead>\n",
       "    <tr style=\"text-align: right;\">\n",
       "      <th></th>\n",
       "      <th>Vt</th>\n",
       "      <th>W</th>\n",
       "      <th>L</th>\n",
       "      <th>T</th>\n",
       "      <th>Vgs</th>\n",
       "      <th>Vds</th>\n",
       "      <th>Ids</th>\n",
       "    </tr>\n",
       "  </thead>\n",
       "  <tbody>\n",
       "    <tr>\n",
       "      <th>0</th>\n",
       "      <td>-21.0</td>\n",
       "      <td>10</td>\n",
       "      <td>5</td>\n",
       "      <td>0</td>\n",
       "      <td>-20.0</td>\n",
       "      <td>1.0</td>\n",
       "      <td>9.562200e-15</td>\n",
       "    </tr>\n",
       "    <tr>\n",
       "      <th>1</th>\n",
       "      <td>-20.8</td>\n",
       "      <td>10</td>\n",
       "      <td>5</td>\n",
       "      <td>0</td>\n",
       "      <td>-19.8</td>\n",
       "      <td>1.0</td>\n",
       "      <td>9.562200e-15</td>\n",
       "    </tr>\n",
       "    <tr>\n",
       "      <th>2</th>\n",
       "      <td>-20.6</td>\n",
       "      <td>10</td>\n",
       "      <td>5</td>\n",
       "      <td>0</td>\n",
       "      <td>-19.6</td>\n",
       "      <td>1.0</td>\n",
       "      <td>9.562200e-15</td>\n",
       "    </tr>\n",
       "    <tr>\n",
       "      <th>3</th>\n",
       "      <td>-20.4</td>\n",
       "      <td>10</td>\n",
       "      <td>5</td>\n",
       "      <td>0</td>\n",
       "      <td>-19.4</td>\n",
       "      <td>1.0</td>\n",
       "      <td>9.562200e-15</td>\n",
       "    </tr>\n",
       "    <tr>\n",
       "      <th>4</th>\n",
       "      <td>-20.2</td>\n",
       "      <td>10</td>\n",
       "      <td>5</td>\n",
       "      <td>0</td>\n",
       "      <td>-19.2</td>\n",
       "      <td>1.0</td>\n",
       "      <td>9.562200e-15</td>\n",
       "    </tr>\n",
       "  </tbody>\n",
       "</table>\n",
       "</div>"
      ],
      "text/plain": [
       "     Vt   W  L  T   Vgs  Vds           Ids\n",
       "0 -21.0  10  5  0 -20.0  1.0  9.562200e-15\n",
       "1 -20.8  10  5  0 -19.8  1.0  9.562200e-15\n",
       "2 -20.6  10  5  0 -19.6  1.0  9.562200e-15\n",
       "3 -20.4  10  5  0 -19.4  1.0  9.562200e-15\n",
       "4 -20.2  10  5  0 -19.2  1.0  9.562200e-15"
      ]
     },
     "execution_count": 4,
     "metadata": {},
     "output_type": "execute_result"
    }
   ],
   "source": [
    "vt_df = pd.read_csv('../data_vt/vt_dataset.csv')\n",
    "vt_df.head()"
   ]
  },
  {
   "cell_type": "code",
   "execution_count": 5,
   "metadata": {},
   "outputs": [
    {
     "data": {
      "text/plain": [
       "array([[  10. ,    5. ,    0. ,  -20. ,    1. ],\n",
       "       [  10. ,    5. ,    0. ,  -19.8,    1. ],\n",
       "       [  10. ,    5. ,    0. ,  -19.6,    1. ],\n",
       "       ...,\n",
       "       [1000. ,   12. ,   80. ,   19.6,   10. ],\n",
       "       [1000. ,   12. ,   80. ,   19.8,   10. ],\n",
       "       [1000. ,   12. ,   80. ,   20. ,   10. ]])"
      ]
     },
     "execution_count": 5,
     "metadata": {},
     "output_type": "execute_result"
    }
   ],
   "source": [
    "vt_df_X = vt_df[['W', 'L', 'T', 'Vgs', 'Vds']]\n",
    "vt_X = vt_df_X.to_numpy()\n",
    "vt_X"
   ]
  },
  {
   "cell_type": "code",
   "execution_count": 6,
   "metadata": {},
   "outputs": [
    {
     "data": {
      "text/plain": [
       "array([[-21. ],\n",
       "       [-20.8],\n",
       "       [-20.6],\n",
       "       ...,\n",
       "       [  9.6],\n",
       "       [  9.8],\n",
       "       [ 10. ]])"
      ]
     },
     "execution_count": 6,
     "metadata": {},
     "output_type": "execute_result"
    }
   ],
   "source": [
    "vt_df_y = vt_df[['Vt']]\n",
    "vt_y = vt_df_y.to_numpy()\n",
    "vt_y"
   ]
  },
  {
   "cell_type": "code",
   "execution_count": 7,
   "metadata": {},
   "outputs": [
    {
     "name": "stdout",
     "output_type": "stream",
     "text": [
      "14472\n"
     ]
    }
   ],
   "source": [
    "dataset = VtDataset(vt_X, vt_y)\n",
    "print(len(dataset))\n",
    "train_loader = torch.utils.data.DataLoader(dataset, batch_size=32, shuffle=True, num_workers=1)"
   ]
  },
  {
   "cell_type": "code",
   "execution_count": 8,
   "metadata": {},
   "outputs": [],
   "source": [
    "mlp = VtMLP()"
   ]
  },
  {
   "cell_type": "code",
   "execution_count": 9,
   "metadata": {},
   "outputs": [],
   "source": [
    "loss_function = nn.L1Loss()\n",
    "optimizer = torch.optim.Adam(mlp.parameters(), lr=1e-4)"
   ]
  },
  {
   "cell_type": "code",
   "execution_count": 10,
   "metadata": {},
   "outputs": [
    {
     "name": "stdout",
     "output_type": "stream",
     "text": [
      "Starting epoch 1\n",
      "Loss after mini-batch     1: 18.978\n",
      "Starting epoch 2\n",
      "Loss after mini-batch     1: 6.966\n",
      "Starting epoch 3\n",
      "Loss after mini-batch     1: 2.993\n",
      "Starting epoch 4\n",
      "Loss after mini-batch     1: 2.238\n",
      "Starting epoch 5\n",
      "Loss after mini-batch     1: 2.613\n",
      "Starting epoch 6\n",
      "Loss after mini-batch     1: 0.986\n",
      "Starting epoch 7\n",
      "Loss after mini-batch     1: 1.144\n",
      "Starting epoch 8\n",
      "Loss after mini-batch     1: 0.554\n",
      "Starting epoch 9\n",
      "Loss after mini-batch     1: 0.354\n",
      "Starting epoch 10\n",
      "Loss after mini-batch     1: 0.655\n",
      "Starting epoch 11\n",
      "Loss after mini-batch     1: 0.585\n",
      "Starting epoch 12\n",
      "Loss after mini-batch     1: 0.414\n",
      "Starting epoch 13\n",
      "Loss after mini-batch     1: 0.437\n",
      "Starting epoch 14\n",
      "Loss after mini-batch     1: 0.212\n",
      "Starting epoch 15\n",
      "Loss after mini-batch     1: 0.352\n",
      "Starting epoch 16\n",
      "Loss after mini-batch     1: 0.155\n",
      "Starting epoch 17\n",
      "Loss after mini-batch     1: 0.216\n",
      "Starting epoch 18\n",
      "Loss after mini-batch     1: 0.192\n",
      "Starting epoch 19\n",
      "Loss after mini-batch     1: 0.150\n",
      "Starting epoch 20\n",
      "Loss after mini-batch     1: 0.197\n",
      "Training process has finished.\n"
     ]
    }
   ],
   "source": [
    "# Run the training loop\n",
    "for epoch in range(0, 20): # 20 epochs at maximum\n",
    "    \n",
    "    # Print epoch\n",
    "    print(f'Starting epoch {epoch+1}')\n",
    "    \n",
    "    # Set current loss value\n",
    "    current_loss = 0.0\n",
    "    \n",
    "    # Iterate over the DataLoader for training data\n",
    "    for i, data in enumerate(train_loader, 0):\n",
    "        # Get and prepare inputs\n",
    "        inputs, targets = data\n",
    "        inputs, targets = inputs.float(), targets.float()\n",
    "        targets = targets.reshape((targets.shape[0], 1))\n",
    "        \n",
    "        # Zero the gradients\n",
    "        optimizer.zero_grad()\n",
    "        \n",
    "        # Perform forward pass\n",
    "        outputs = mlp(inputs)\n",
    "        \n",
    "        # Compute loss\n",
    "        loss = loss_function(outputs, targets)\n",
    "        \n",
    "        # Perform backward pass\n",
    "        loss.backward()\n",
    "        \n",
    "        # Perform optimization\n",
    "        optimizer.step()\n",
    "        \n",
    "        # Print statistics\n",
    "        current_loss += loss.item()\n",
    "        if i % 1000 == 0:\n",
    "            print('Loss after mini-batch %5d: %.3f' %\n",
    "                (i + 1, current_loss / 20*32))\n",
    "            current_loss = 0.0\n",
    "\n",
    "# Process is complete.\n",
    "print('Training process has finished.')"
   ]
  },
  {
   "cell_type": "markdown",
   "metadata": {},
   "source": [
    "## 4) Saving..."
   ]
  },
  {
   "cell_type": "code",
   "execution_count": 11,
   "metadata": {},
   "outputs": [],
   "source": [
    "torch.save(mlp.state_dict(), '../checkpoint/vt_mlp_model.pt')"
   ]
  }
 ],
 "metadata": {
  "interpreter": {
   "hash": "3829caa72e4f00bfa838cc8791f96dc30ddd90ae454d4eaf3d8b7ab9877dcc00"
  },
  "kernelspec": {
   "display_name": "Python 3.10.4 ('lg_display')",
   "language": "python",
   "name": "python3"
  },
  "language_info": {
   "codemirror_mode": {
    "name": "ipython",
    "version": 3
   },
   "file_extension": ".py",
   "mimetype": "text/x-python",
   "name": "python",
   "nbconvert_exporter": "python",
   "pygments_lexer": "ipython3",
   "version": "3.10.4"
  },
  "orig_nbformat": 4
 },
 "nbformat": 4,
 "nbformat_minor": 2
}
