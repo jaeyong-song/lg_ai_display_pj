{
 "cells": [
  {
   "cell_type": "markdown",
   "metadata": {},
   "source": [
    "# Plot prediction curve"
   ]
  },
  {
   "cell_type": "code",
   "execution_count": 276,
   "metadata": {},
   "outputs": [],
   "source": [
    "import torch\n",
    "import xgboost\n",
    "import matplotlib.pyplot as plt\n",
    "from sklearn.model_selection import train_test_split\n",
    "from sklearn.metrics import explained_variance_score\n",
    "import pandas as pd\n",
    "import numpy as np\n",
    "from sklearn.model_selection import GridSearchCV\n",
    "from sklearn.preprocessing import StandardScaler\n",
    "from sklearn.preprocessing import MinMaxScaler\n",
    "import matplotlib.pyplot as plt\n",
    "import math\n",
    "from joblib import dump, load"
   ]
  },
  {
   "cell_type": "code",
   "execution_count": 277,
   "metadata": {},
   "outputs": [
    {
     "data": {
      "text/html": [
       "<div>\n",
       "<style scoped>\n",
       "    .dataframe tbody tr th:only-of-type {\n",
       "        vertical-align: middle;\n",
       "    }\n",
       "\n",
       "    .dataframe tbody tr th {\n",
       "        vertical-align: top;\n",
       "    }\n",
       "\n",
       "    .dataframe thead th {\n",
       "        text-align: right;\n",
       "    }\n",
       "</style>\n",
       "<table border=\"1\" class=\"dataframe\">\n",
       "  <thead>\n",
       "    <tr style=\"text-align: right;\">\n",
       "      <th></th>\n",
       "      <th>Vds</th>\n",
       "      <th>Vgs</th>\n",
       "      <th>Ids</th>\n",
       "      <th>W</th>\n",
       "      <th>L</th>\n",
       "      <th>T</th>\n",
       "    </tr>\n",
       "  </thead>\n",
       "  <tbody>\n",
       "    <tr>\n",
       "      <th>0</th>\n",
       "      <td>0.1</td>\n",
       "      <td>-20.0</td>\n",
       "      <td>2.628500e-13</td>\n",
       "      <td>35</td>\n",
       "      <td>10</td>\n",
       "      <td>25</td>\n",
       "    </tr>\n",
       "    <tr>\n",
       "      <th>1</th>\n",
       "      <td>0.1</td>\n",
       "      <td>-19.8</td>\n",
       "      <td>2.628500e-13</td>\n",
       "      <td>35</td>\n",
       "      <td>10</td>\n",
       "      <td>25</td>\n",
       "    </tr>\n",
       "    <tr>\n",
       "      <th>2</th>\n",
       "      <td>0.1</td>\n",
       "      <td>-19.6</td>\n",
       "      <td>2.628500e-13</td>\n",
       "      <td>35</td>\n",
       "      <td>10</td>\n",
       "      <td>25</td>\n",
       "    </tr>\n",
       "    <tr>\n",
       "      <th>3</th>\n",
       "      <td>0.1</td>\n",
       "      <td>-19.4</td>\n",
       "      <td>2.628500e-13</td>\n",
       "      <td>35</td>\n",
       "      <td>10</td>\n",
       "      <td>25</td>\n",
       "    </tr>\n",
       "    <tr>\n",
       "      <th>4</th>\n",
       "      <td>0.1</td>\n",
       "      <td>-19.2</td>\n",
       "      <td>2.628500e-13</td>\n",
       "      <td>35</td>\n",
       "      <td>10</td>\n",
       "      <td>25</td>\n",
       "    </tr>\n",
       "  </tbody>\n",
       "</table>\n",
       "</div>"
      ],
      "text/plain": [
       "   Vds   Vgs           Ids   W   L   T\n",
       "0  0.1 -20.0  2.628500e-13  35  10  25\n",
       "1  0.1 -19.8  2.628500e-13  35  10  25\n",
       "2  0.1 -19.6  2.628500e-13  35  10  25\n",
       "3  0.1 -19.4  2.628500e-13  35  10  25\n",
       "4  0.1 -19.2  2.628500e-13  35  10  25"
      ]
     },
     "execution_count": 277,
     "metadata": {},
     "output_type": "execute_result"
    }
   ],
   "source": [
    "W=35\n",
    "L=10\n",
    "T=25\n",
    "full_df = pd.read_csv('../data/W35L10T25.csv')\n",
    "full_df.head()"
   ]
  },
  {
   "cell_type": "code",
   "execution_count": 278,
   "metadata": {},
   "outputs": [
    {
     "data": {
      "text/plain": [
       "201"
      ]
     },
     "execution_count": 278,
     "metadata": {},
     "output_type": "execute_result"
    }
   ],
   "source": [
    "vgs_list = full_df['Vgs'].unique()\n",
    "len(vgs_list)"
   ]
  },
  {
   "cell_type": "code",
   "execution_count": 279,
   "metadata": {},
   "outputs": [
    {
     "data": {
      "text/plain": [
       "6"
      ]
     },
     "execution_count": 279,
     "metadata": {},
     "output_type": "execute_result"
    }
   ],
   "source": [
    "vds_list = full_df['Vds'].unique()\n",
    "len(vds_list)"
   ]
  },
  {
   "cell_type": "code",
   "execution_count": 280,
   "metadata": {},
   "outputs": [
    {
     "data": {
      "image/png": "[encoded data removed]",
      "text/plain": [
       "<Figure size 432x288 with 1 Axes>"
      ]
     },
     "metadata": {
      "needs_background": "light"
     },
     "output_type": "display_data"
    }
   ],
   "source": [
    "for vds in vds_list:\n",
    "    plt.plot(full_df.query('Vds=='+str(vds))['Vgs'], full_df.query('Vds=='+str(vds))['Ids'], label=vds)\n",
    "    plt.xlabel('Vgs')\n",
    "    plt.ylabel('Ids')\n",
    "    plt.axhline(y = 1e-8*W/L, color = 'r', linestyle = '-')\n",
    "    plt.legend(bbox_to_anchor=(1,1), loc='upper left', title='Vds')\n",
    "    plt.title('Ids-Vgs')"
   ]
  },
  {
   "cell_type": "code",
   "execution_count": 281,
   "metadata": {},
   "outputs": [
    {
     "data": {
      "image/png": "[encoded data removed]",
      "text/plain": [
       "<Figure size 432x288 with 1 Axes>"
      ]
     },
     "metadata": {
      "needs_background": "light"
     },
     "output_type": "display_data"
    }
   ],
   "source": [
    "for vds in vds_list:\n",
    "    plt.plot(full_df.query('Vds=='+str(vds))['Vgs'], full_df.query('Vds=='+str(vds))['Ids'], label=vds)\n",
    "    plt.xlabel('Vgs')\n",
    "    plt.ylabel('Ids')\n",
    "    plt.yscale('log')\n",
    "    plt.axhline(y = 1e-8*W/L, color = 'r', linestyle = '-')\n",
    "    plt.legend(bbox_to_anchor=(1,1), loc='upper left', title='Vds')\n",
    "    plt.title('Ids-Vgs')"
   ]
  },
  {
   "cell_type": "code",
   "execution_count": 282,
   "metadata": {},
   "outputs": [],
   "source": [
    "vt_model = xgboost.XGBRegressor()\n",
    "vt_model.load_model('../checkpoint/vt_xgboost_model.model')"
   ]
  },
  {
   "cell_type": "code",
   "execution_count": 283,
   "metadata": {},
   "outputs": [
    {
     "data": {
      "text/html": [
       "<div>\n",
       "<style scoped>\n",
       "    .dataframe tbody tr th:only-of-type {\n",
       "        vertical-align: middle;\n",
       "    }\n",
       "\n",
       "    .dataframe tbody tr th {\n",
       "        vertical-align: top;\n",
       "    }\n",
       "\n",
       "    .dataframe thead th {\n",
       "        text-align: right;\n",
       "    }\n",
       "</style>\n",
       "<table border=\"1\" class=\"dataframe\">\n",
       "  <thead>\n",
       "    <tr style=\"text-align: right;\">\n",
       "      <th></th>\n",
       "      <th>Vds</th>\n",
       "      <th>Vgs</th>\n",
       "      <th>Ids</th>\n",
       "      <th>W</th>\n",
       "      <th>L</th>\n",
       "      <th>T</th>\n",
       "      <th>Vt</th>\n",
       "    </tr>\n",
       "  </thead>\n",
       "  <tbody>\n",
       "    <tr>\n",
       "      <th>0</th>\n",
       "      <td>0.1</td>\n",
       "      <td>-20.0</td>\n",
       "      <td>2.628500e-13</td>\n",
       "      <td>35</td>\n",
       "      <td>10</td>\n",
       "      <td>25</td>\n",
       "      <td>1.000042</td>\n",
       "    </tr>\n",
       "    <tr>\n",
       "      <th>1</th>\n",
       "      <td>0.1</td>\n",
       "      <td>-19.8</td>\n",
       "      <td>2.628500e-13</td>\n",
       "      <td>35</td>\n",
       "      <td>10</td>\n",
       "      <td>25</td>\n",
       "      <td>1.000042</td>\n",
       "    </tr>\n",
       "    <tr>\n",
       "      <th>2</th>\n",
       "      <td>0.1</td>\n",
       "      <td>-19.6</td>\n",
       "      <td>2.628500e-13</td>\n",
       "      <td>35</td>\n",
       "      <td>10</td>\n",
       "      <td>25</td>\n",
       "      <td>1.000042</td>\n",
       "    </tr>\n",
       "    <tr>\n",
       "      <th>3</th>\n",
       "      <td>0.1</td>\n",
       "      <td>-19.4</td>\n",
       "      <td>2.628500e-13</td>\n",
       "      <td>35</td>\n",
       "      <td>10</td>\n",
       "      <td>25</td>\n",
       "      <td>1.000042</td>\n",
       "    </tr>\n",
       "    <tr>\n",
       "      <th>4</th>\n",
       "      <td>0.1</td>\n",
       "      <td>-19.2</td>\n",
       "      <td>2.628500e-13</td>\n",
       "      <td>35</td>\n",
       "      <td>10</td>\n",
       "      <td>25</td>\n",
       "      <td>1.000042</td>\n",
       "    </tr>\n",
       "  </tbody>\n",
       "</table>\n",
       "</div>"
      ],
      "text/plain": [
       "   Vds   Vgs           Ids   W   L   T        Vt\n",
       "0  0.1 -20.0  2.628500e-13  35  10  25  1.000042\n",
       "1  0.1 -19.8  2.628500e-13  35  10  25  1.000042\n",
       "2  0.1 -19.6  2.628500e-13  35  10  25  1.000042\n",
       "3  0.1 -19.4  2.628500e-13  35  10  25  1.000042\n",
       "4  0.1 -19.2  2.628500e-13  35  10  25  1.000042"
      ]
     },
     "execution_count": 283,
     "metadata": {},
     "output_type": "execute_result"
    }
   ],
   "source": [
    "full_df['Vt'] = full_df.apply(lambda row : vt_model.predict([row[['W','L', 'T','Vds']].to_numpy()])[0], axis=1)\n",
    "full_df.head()"
   ]
  },
  {
   "cell_type": "code",
   "execution_count": 284,
   "metadata": {},
   "outputs": [],
   "source": [
    "def calculate_drain_equation(width, length, vgs, vds, vt):\n",
    "    right_term = (vgs-vt)*vds - 1/2*(vds**2)\n",
    "    return (width/length)*right_term"
   ]
  },
  {
   "cell_type": "code",
   "execution_count": 285,
   "metadata": {},
   "outputs": [
    {
     "data": {
      "text/html": [
       "<div>\n",
       "<style scoped>\n",
       "    .dataframe tbody tr th:only-of-type {\n",
       "        vertical-align: middle;\n",
       "    }\n",
       "\n",
       "    .dataframe tbody tr th {\n",
       "        vertical-align: top;\n",
       "    }\n",
       "\n",
       "    .dataframe thead th {\n",
       "        text-align: right;\n",
       "    }\n",
       "</style>\n",
       "<table border=\"1\" class=\"dataframe\">\n",
       "  <thead>\n",
       "    <tr style=\"text-align: right;\">\n",
       "      <th></th>\n",
       "      <th>Vds</th>\n",
       "      <th>Vgs</th>\n",
       "      <th>Ids</th>\n",
       "      <th>W</th>\n",
       "      <th>L</th>\n",
       "      <th>T</th>\n",
       "      <th>Vt</th>\n",
       "      <th>Drain</th>\n",
       "    </tr>\n",
       "  </thead>\n",
       "  <tbody>\n",
       "    <tr>\n",
       "      <th>0</th>\n",
       "      <td>0.1</td>\n",
       "      <td>-20.0</td>\n",
       "      <td>2.628500e-13</td>\n",
       "      <td>35</td>\n",
       "      <td>10</td>\n",
       "      <td>25</td>\n",
       "      <td>1.000042</td>\n",
       "      <td>-7.367515</td>\n",
       "    </tr>\n",
       "    <tr>\n",
       "      <th>1</th>\n",
       "      <td>0.1</td>\n",
       "      <td>-19.8</td>\n",
       "      <td>2.628500e-13</td>\n",
       "      <td>35</td>\n",
       "      <td>10</td>\n",
       "      <td>25</td>\n",
       "      <td>1.000042</td>\n",
       "      <td>-7.297515</td>\n",
       "    </tr>\n",
       "    <tr>\n",
       "      <th>2</th>\n",
       "      <td>0.1</td>\n",
       "      <td>-19.6</td>\n",
       "      <td>2.628500e-13</td>\n",
       "      <td>35</td>\n",
       "      <td>10</td>\n",
       "      <td>25</td>\n",
       "      <td>1.000042</td>\n",
       "      <td>-7.227515</td>\n",
       "    </tr>\n",
       "    <tr>\n",
       "      <th>3</th>\n",
       "      <td>0.1</td>\n",
       "      <td>-19.4</td>\n",
       "      <td>2.628500e-13</td>\n",
       "      <td>35</td>\n",
       "      <td>10</td>\n",
       "      <td>25</td>\n",
       "      <td>1.000042</td>\n",
       "      <td>-7.157515</td>\n",
       "    </tr>\n",
       "    <tr>\n",
       "      <th>4</th>\n",
       "      <td>0.1</td>\n",
       "      <td>-19.2</td>\n",
       "      <td>2.628500e-13</td>\n",
       "      <td>35</td>\n",
       "      <td>10</td>\n",
       "      <td>25</td>\n",
       "      <td>1.000042</td>\n",
       "      <td>-7.087515</td>\n",
       "    </tr>\n",
       "  </tbody>\n",
       "</table>\n",
       "</div>"
      ],
      "text/plain": [
       "   Vds   Vgs           Ids   W   L   T        Vt     Drain\n",
       "0  0.1 -20.0  2.628500e-13  35  10  25  1.000042 -7.367515\n",
       "1  0.1 -19.8  2.628500e-13  35  10  25  1.000042 -7.297515\n",
       "2  0.1 -19.6  2.628500e-13  35  10  25  1.000042 -7.227515\n",
       "3  0.1 -19.4  2.628500e-13  35  10  25  1.000042 -7.157515\n",
       "4  0.1 -19.2  2.628500e-13  35  10  25  1.000042 -7.087515"
      ]
     },
     "execution_count": 285,
     "metadata": {},
     "output_type": "execute_result"
    }
   ],
   "source": [
    "full_df['Drain'] = full_df.apply(lambda row : calculate_drain_equation(row['W'], row['L'], row['Vgs'], row['Vds'], row['Vt']), axis=1)\n",
    "full_df.head()"
   ]
  },
  {
   "cell_type": "code",
   "execution_count": 286,
   "metadata": {},
   "outputs": [],
   "source": [
    "class_0_df = full_df.query('Vgs<0')\n",
    "class_1_df = full_df.query('Vgs>=0')"
   ]
  },
  {
   "cell_type": "code",
   "execution_count": 287,
   "metadata": {},
   "outputs": [],
   "source": [
    "class_0_model = xgboost.XGBRegressor()\n",
    "class_0_model.load_model('../checkpoint/scaled_classified_vt_xgboost_class_0.model')\n",
    "class_1_model = xgboost.XGBRegressor()\n",
    "class_1_model.load_model('../checkpoint/scaled_classified_vt_xgboost_class_1.model')"
   ]
  },
  {
   "cell_type": "code",
   "execution_count": 288,
   "metadata": {},
   "outputs": [],
   "source": [
    "class_0_X = class_0_df[['W','L','T','Vgs','Vds', 'Vt', 'Drain']].to_numpy()\n",
    "scaler_0_X = load('../checkpoint/scaled_classified_vt_drain_xbgoost_class_0_std_scaler.bin')\n",
    "# scaler_0_X = StandardScaler().fit(class_0_X)\n",
    "class_0_X = scaler_0_X.transform(class_0_X)\n",
    "class_0_y = class_0_df[['Ids']].to_numpy()\n",
    "# class_0_y = np.log(class_0_y)\n",
    "\n",
    "class_1_X = class_1_df[['W','L','T','Vgs','Vds', 'Vt', 'Drain']].to_numpy()\n",
    "scaler_1_X = load('../checkpoint/scaled_classified_vt_drain_xbgoost_class_1_std_scaler.bin')\n",
    "# scaler_1_X = StandardScaler().fit(class_1_X)\n",
    "class_1_X = scaler_1_X.transform(class_1_X)\n",
    "class_1_y = class_1_df[['Ids']].to_numpy()\n",
    "# class_0_y = np.log(class_0_y)"
   ]
  },
  {
   "cell_type": "code",
   "execution_count": 289,
   "metadata": {},
   "outputs": [],
   "source": [
    "def NRMSELoss(y_hat, y, eps=1e-8):\n",
    "    log_abs_y_hat = torch.log(torch.abs(y_hat)+eps)\n",
    "    log_abs_y = torch.log(torch.abs(y)+eps)\n",
    "    log_abs_delta = log_abs_y_hat - log_abs_y\n",
    "    delta = y_hat - y\n",
    "    len_delta = y_hat.size(dim=0)\n",
    "    return torch.sqrt((1/len_delta)*torch.sum((log_abs_delta/(log_abs_y+eps))**2)) + torch.sqrt((1/len_delta)*torch.sum((delta/(y+eps))**2))"
   ]
  },
  {
   "cell_type": "code",
   "execution_count": 290,
   "metadata": {},
   "outputs": [
    {
     "name": "stdout",
     "output_type": "stream",
     "text": [
      "tensor(0.0002, dtype=torch.float64)\n"
     ]
    }
   ],
   "source": [
    "class_0_pred = class_0_model.predict(class_0_X)\n",
    "class_0_pred = torch.tensor(np.exp(class_0_pred))\n",
    "class_0_y = torch.tensor(class_0_y.flatten())\n",
    "class_0_nrmse = NRMSELoss(class_0_pred, class_0_y)\n",
    "print(class_0_nrmse)"
   ]
  },
  {
   "cell_type": "code",
   "execution_count": 291,
   "metadata": {},
   "outputs": [
    {
     "name": "stdout",
     "output_type": "stream",
     "text": [
      "tensor(0.0570, dtype=torch.float64)\n"
     ]
    }
   ],
   "source": [
    "class_1_pred = class_1_model.predict(class_1_X)\n",
    "class_1_pred = torch.tensor(np.exp(class_1_pred))\n",
    "class_1_y = torch.tensor(class_1_y.flatten())\n",
    "class_1_nrmse = NRMSELoss(class_1_pred, class_1_y)\n",
    "print(class_1_nrmse)"
   ]
  },
  {
   "cell_type": "code",
   "execution_count": 292,
   "metadata": {},
   "outputs": [
    {
     "name": "stdout",
     "output_type": "stream",
     "text": [
      "       Vds           Vgs           Ids      Pred_Ids   W   L   T        Vt  \\\n",
      "0      0.1 -2.000000e+01  2.628500e-13  2.625447e-13  35  10  25  1.000042   \n",
      "1      0.1 -1.980000e+01  2.628500e-13  2.625447e-13  35  10  25  1.000042   \n",
      "2      0.1 -1.960000e+01  2.628500e-13  2.625447e-13  35  10  25  1.000042   \n",
      "3      0.1 -1.940000e+01  2.628500e-13  2.625447e-13  35  10  25  1.000042   \n",
      "4      0.1 -1.920000e+01  2.628500e-13  2.625447e-13  35  10  25  1.000042   \n",
      "...    ...           ...           ...           ...  ..  ..  ..       ...   \n",
      "1101  30.0 -8.000000e-01  2.689900e-13  2.644918e-13  35  10  25  0.599882   \n",
      "1102  30.0 -6.000000e-01  2.797800e-13  3.007031e-13  35  10  25  0.599882   \n",
      "1103  30.0 -4.000000e-01  4.773800e-13  4.450941e-13  35  10  25  0.599882   \n",
      "1104  30.0 -2.000000e-01  4.118900e-12  3.638551e-12  35  10  25  0.599882   \n",
      "1105  30.0 -3.758100e-14  7.149000e-11  3.235974e-11  35  10  25  0.599882   \n",
      "\n",
      "            Drain  \n",
      "0       -7.367515  \n",
      "1       -7.297515  \n",
      "2       -7.227515  \n",
      "3       -7.157515  \n",
      "4       -7.087515  \n",
      "...           ...  \n",
      "1101 -1721.987592  \n",
      "1102 -1700.987592  \n",
      "1103 -1679.987592  \n",
      "1104 -1658.987592  \n",
      "1105 -1637.987592  \n",
      "\n",
      "[606 rows x 9 columns]\n"
     ]
    }
   ],
   "source": [
    "class_0_df.insert(3, 'Pred_Ids', class_0_pred.numpy())\n",
    "print(class_0_df)"
   ]
  },
  {
   "cell_type": "code",
   "execution_count": 293,
   "metadata": {},
   "outputs": [
    {
     "data": {
      "image/png": "[encoded data removed]",
      "text/plain": [
       "<Figure size 432x288 with 1 Axes>"
      ]
     },
     "metadata": {
      "needs_background": "light"
     },
     "output_type": "display_data"
    }
   ],
   "source": [
    "vgs_list = class_0_df['Vgs'].unique()\n",
    "len(vgs_list)\n",
    "vds_list = class_0_df['Vds'].unique()\n",
    "len(vds_list)\n",
    "for vds in vds_list:\n",
    "    plt.plot(class_0_df.query('Vds=='+str(vds))['Vgs'], class_0_df.query('Vds=='+str(vds))['Ids'], label=vds)\n",
    "    plt.xlabel('Vgs')\n",
    "    plt.ylabel('Ids')\n",
    "    plt.yscale('log')\n",
    "    plt.axhline(y = 1e-8*W/L, color = 'r', linestyle = '-')\n",
    "    plt.legend(bbox_to_anchor=(1,1), loc='upper left', title='Vds')\n",
    "    plt.title('Ids-Vgs')"
   ]
  },
  {
   "cell_type": "code",
   "execution_count": 294,
   "metadata": {},
   "outputs": [
    {
     "data": {
      "image/png": "[encoded data removed]",
      "text/plain": [
       "<Figure size 432x288 with 1 Axes>"
      ]
     },
     "metadata": {
      "needs_background": "light"
     },
     "output_type": "display_data"
    }
   ],
   "source": [
    "vgs_list = class_0_df['Vgs'].unique()\n",
    "len(vgs_list)\n",
    "vds_list = class_0_df['Vds'].unique()\n",
    "len(vds_list)\n",
    "for vds in vds_list:\n",
    "    plt.plot(class_0_df.query('Vds=='+str(vds))['Vgs'], class_0_df.query('Vds=='+str(vds))['Pred_Ids'], label=vds)\n",
    "    plt.xlabel('Vgs')\n",
    "    plt.ylabel('Pred_Ids')\n",
    "    plt.yscale('log')\n",
    "    plt.axhline(y = 1e-8*W/L, color = 'r', linestyle = '-')\n",
    "    plt.legend(bbox_to_anchor=(1,1), loc='upper left', title='Vds')\n",
    "    plt.title('Pred_Ids-Vgs')"
   ]
  },
  {
   "cell_type": "code",
   "execution_count": 295,
   "metadata": {},
   "outputs": [
    {
     "name": "stdout",
     "output_type": "stream",
     "text": [
      "       Vds   Vgs           Ids      Pred_Ids   W   L   T        Vt       Drain\n",
      "101    0.1   0.2  1.096300e-11  1.131922e-11  35  10  25  1.000042   -0.297515\n",
      "102    0.1   0.4  1.932100e-10  2.058917e-10  35  10  25  1.000042   -0.227515\n",
      "103    0.1   0.6  2.661500e-09  2.761486e-09  35  10  25  1.000042   -0.157515\n",
      "104    0.1   0.8  1.311300e-08  1.296072e-08  35  10  25  1.000042   -0.087515\n",
      "105    0.1   1.0  2.922100e-08  2.616460e-08  35  10  25  1.000042   -0.017515\n",
      "...    ...   ...           ...           ...  ..  ..  ..       ...         ...\n",
      "1201  30.0  19.2  5.308300e-04  5.376437e-04  35  10  25  0.599882  378.012408\n",
      "1202  30.0  19.4  5.410700e-04  5.542579e-04  35  10  25  0.599882  399.012408\n",
      "1203  30.0  19.6  5.513500e-04  5.578453e-04  35  10  25  0.599882  420.012408\n",
      "1204  30.0  19.8  5.616900e-04  5.561214e-04  35  10  25  0.599882  441.012408\n",
      "1205  30.0  20.0  5.720700e-04  5.702429e-04  35  10  25  0.599882  462.012408\n",
      "\n",
      "[600 rows x 9 columns]\n"
     ]
    }
   ],
   "source": [
    "class_1_df.insert(3, 'Pred_Ids', class_1_pred.numpy())\n",
    "print(class_1_df)"
   ]
  },
  {
   "cell_type": "code",
   "execution_count": 296,
   "metadata": {},
   "outputs": [
    {
     "data": {
      "image/png": "[encoded data removed]",
      "text/plain": [
       "<Figure size 432x288 with 1 Axes>"
      ]
     },
     "metadata": {
      "needs_background": "light"
     },
     "output_type": "display_data"
    }
   ],
   "source": [
    "vgs_list = class_1_df['Vgs'].unique()\n",
    "len(vgs_list)\n",
    "vds_list = class_1_df['Vds'].unique()\n",
    "len(vds_list)\n",
    "for vds in vds_list:\n",
    "    plt.plot(class_1_df.query('Vds=='+str(vds))['Vgs'], class_1_df.query('Vds=='+str(vds))['Ids'], label=vds)\n",
    "    plt.xlabel('Vgs')\n",
    "    plt.ylabel('Ids')\n",
    "    plt.yscale('log')\n",
    "    plt.axhline(y = 1e-8*W/L, color = 'r', linestyle = '-')\n",
    "    plt.legend(bbox_to_anchor=(1,1), loc='upper left', title='Vds')\n",
    "    plt.title('Ids-Vgs')"
   ]
  },
  {
   "cell_type": "code",
   "execution_count": 297,
   "metadata": {},
   "outputs": [
    {
     "data": {
      "image/png": "[encoded data removed]",
      "text/plain": [
       "<Figure size 432x288 with 1 Axes>"
      ]
     },
     "metadata": {
      "needs_background": "light"
     },
     "output_type": "display_data"
    }
   ],
   "source": [
    "vgs_list = class_1_df['Vgs'].unique()\n",
    "len(vgs_list)\n",
    "vds_list = class_1_df['Vds'].unique()\n",
    "len(vds_list)\n",
    "for vds in vds_list:\n",
    "    plt.plot(class_1_df.query('Vds=='+str(vds))['Vgs'], class_1_df.query('Vds=='+str(vds))['Pred_Ids'], label=vds)\n",
    "    plt.xlabel('Vgs')\n",
    "    plt.ylabel('Pred_Ids')\n",
    "    plt.yscale('log')\n",
    "    plt.axhline(y = 1e-8*W/L, color = 'r', linestyle = '-')\n",
    "    plt.legend(bbox_to_anchor=(1,1), loc='upper left', title='Vds')\n",
    "    plt.title('Pred_Ids-Vgs')"
   ]
  },
  {
   "cell_type": "code",
   "execution_count": 298,
   "metadata": {},
   "outputs": [
    {
     "data": {
      "text/plain": [
       "array([ 0.2,  0.4,  0.6,  0.8,  1. ,  1.2,  1.4,  1.6,  1.8,  2. ,  2.2,\n",
       "        2.4,  2.6,  2.8,  3. ,  3.2,  3.4,  3.6,  3.8,  4. ,  4.2,  4.4,\n",
       "        4.6,  4.8,  5. ,  5.2,  5.4,  5.6,  5.8,  6. ,  6.2,  6.4,  6.6,\n",
       "        6.8,  7. ,  7.2,  7.4,  7.6,  7.8,  8. ,  8.2,  8.4,  8.6,  8.8,\n",
       "        9. ,  9.2,  9.4,  9.6,  9.8, 10. , 10.2, 10.4, 10.6, 10.8, 11. ,\n",
       "       11.2, 11.4, 11.6, 11.8, 12. , 12.2, 12.4, 12.6, 12.8, 13. , 13.2,\n",
       "       13.4, 13.6, 13.8, 14. , 14.2, 14.4, 14.6, 14.8, 15. , 15.2, 15.4,\n",
       "       15.6, 15.8, 16. , 16.2, 16.4, 16.6, 16.8, 17. , 17.2, 17.4, 17.6,\n",
       "       17.8, 18. , 18.2, 18.4, 18.6, 18.8, 19. , 19.2, 19.4, 19.6, 19.8,\n",
       "       20. ])"
      ]
     },
     "execution_count": 298,
     "metadata": {},
     "output_type": "execute_result"
    }
   ],
   "source": [
    "vgs_list"
   ]
  },
  {
   "cell_type": "code",
   "execution_count": 299,
   "metadata": {},
   "outputs": [
    {
     "data": {
      "text/plain": [
       "array([ 0.1,  1. ,  5. , 10. , 20. , 30. ])"
      ]
     },
     "execution_count": 299,
     "metadata": {},
     "output_type": "execute_result"
    }
   ],
   "source": [
    "vds_list"
   ]
  },
  {
   "cell_type": "code",
   "execution_count": 300,
   "metadata": {},
   "outputs": [
    {
     "data": {
      "text/html": [
       "<div>\n",
       "<style scoped>\n",
       "    .dataframe tbody tr th:only-of-type {\n",
       "        vertical-align: middle;\n",
       "    }\n",
       "\n",
       "    .dataframe tbody tr th {\n",
       "        vertical-align: top;\n",
       "    }\n",
       "\n",
       "    .dataframe thead th {\n",
       "        text-align: right;\n",
       "    }\n",
       "</style>\n",
       "<table border=\"1\" class=\"dataframe\">\n",
       "  <thead>\n",
       "    <tr style=\"text-align: right;\">\n",
       "      <th></th>\n",
       "      <th>Vds</th>\n",
       "      <th>Vgs</th>\n",
       "      <th>Ids</th>\n",
       "      <th>Pred_Ids</th>\n",
       "      <th>W</th>\n",
       "      <th>L</th>\n",
       "      <th>T</th>\n",
       "      <th>Vt</th>\n",
       "      <th>Drain</th>\n",
       "    </tr>\n",
       "  </thead>\n",
       "  <tbody>\n",
       "    <tr>\n",
       "      <th>101</th>\n",
       "      <td>0.1</td>\n",
       "      <td>0.2</td>\n",
       "      <td>1.096300e-11</td>\n",
       "      <td>1.131922e-11</td>\n",
       "      <td>35</td>\n",
       "      <td>10</td>\n",
       "      <td>25</td>\n",
       "      <td>1.000042</td>\n",
       "      <td>-0.297515</td>\n",
       "    </tr>\n",
       "    <tr>\n",
       "      <th>102</th>\n",
       "      <td>0.1</td>\n",
       "      <td>0.4</td>\n",
       "      <td>1.932100e-10</td>\n",
       "      <td>2.058917e-10</td>\n",
       "      <td>35</td>\n",
       "      <td>10</td>\n",
       "      <td>25</td>\n",
       "      <td>1.000042</td>\n",
       "      <td>-0.227515</td>\n",
       "    </tr>\n",
       "    <tr>\n",
       "      <th>103</th>\n",
       "      <td>0.1</td>\n",
       "      <td>0.6</td>\n",
       "      <td>2.661500e-09</td>\n",
       "      <td>2.761486e-09</td>\n",
       "      <td>35</td>\n",
       "      <td>10</td>\n",
       "      <td>25</td>\n",
       "      <td>1.000042</td>\n",
       "      <td>-0.157515</td>\n",
       "    </tr>\n",
       "    <tr>\n",
       "      <th>104</th>\n",
       "      <td>0.1</td>\n",
       "      <td>0.8</td>\n",
       "      <td>1.311300e-08</td>\n",
       "      <td>1.296072e-08</td>\n",
       "      <td>35</td>\n",
       "      <td>10</td>\n",
       "      <td>25</td>\n",
       "      <td>1.000042</td>\n",
       "      <td>-0.087515</td>\n",
       "    </tr>\n",
       "    <tr>\n",
       "      <th>105</th>\n",
       "      <td>0.1</td>\n",
       "      <td>1.0</td>\n",
       "      <td>2.922100e-08</td>\n",
       "      <td>2.616460e-08</td>\n",
       "      <td>35</td>\n",
       "      <td>10</td>\n",
       "      <td>25</td>\n",
       "      <td>1.000042</td>\n",
       "      <td>-0.017515</td>\n",
       "    </tr>\n",
       "  </tbody>\n",
       "</table>\n",
       "</div>"
      ],
      "text/plain": [
       "     Vds  Vgs           Ids      Pred_Ids   W   L   T        Vt     Drain\n",
       "101  0.1  0.2  1.096300e-11  1.131922e-11  35  10  25  1.000042 -0.297515\n",
       "102  0.1  0.4  1.932100e-10  2.058917e-10  35  10  25  1.000042 -0.227515\n",
       "103  0.1  0.6  2.661500e-09  2.761486e-09  35  10  25  1.000042 -0.157515\n",
       "104  0.1  0.8  1.311300e-08  1.296072e-08  35  10  25  1.000042 -0.087515\n",
       "105  0.1  1.0  2.922100e-08  2.616460e-08  35  10  25  1.000042 -0.017515"
      ]
     },
     "execution_count": 300,
     "metadata": {},
     "output_type": "execute_result"
    }
   ],
   "source": [
    "class_1_df.head()"
   ]
  },
  {
   "cell_type": "code",
   "execution_count": 301,
   "metadata": {},
   "outputs": [
    {
     "data": {
      "text/html": [
       "<div>\n",
       "<style scoped>\n",
       "    .dataframe tbody tr th:only-of-type {\n",
       "        vertical-align: middle;\n",
       "    }\n",
       "\n",
       "    .dataframe tbody tr th {\n",
       "        vertical-align: top;\n",
       "    }\n",
       "\n",
       "    .dataframe thead th {\n",
       "        text-align: right;\n",
       "    }\n",
       "</style>\n",
       "<table border=\"1\" class=\"dataframe\">\n",
       "  <thead>\n",
       "    <tr style=\"text-align: right;\">\n",
       "      <th></th>\n",
       "      <th>Vds</th>\n",
       "      <th>Vgs</th>\n",
       "      <th>Ids</th>\n",
       "      <th>Pred_Ids</th>\n",
       "      <th>W</th>\n",
       "      <th>L</th>\n",
       "      <th>T</th>\n",
       "      <th>Vt</th>\n",
       "      <th>Drain</th>\n",
       "    </tr>\n",
       "  </thead>\n",
       "  <tbody>\n",
       "    <tr>\n",
       "      <th>1106</th>\n",
       "      <td>30.0</td>\n",
       "      <td>0.2</td>\n",
       "      <td>1.272500e-09</td>\n",
       "      <td>1.075219e-09</td>\n",
       "      <td>35</td>\n",
       "      <td>10</td>\n",
       "      <td>25</td>\n",
       "      <td>0.599882</td>\n",
       "      <td>-1616.987592</td>\n",
       "    </tr>\n",
       "    <tr>\n",
       "      <th>1107</th>\n",
       "      <td>30.0</td>\n",
       "      <td>0.4</td>\n",
       "      <td>1.528500e-08</td>\n",
       "      <td>1.602962e-08</td>\n",
       "      <td>35</td>\n",
       "      <td>10</td>\n",
       "      <td>25</td>\n",
       "      <td>0.599882</td>\n",
       "      <td>-1595.987592</td>\n",
       "    </tr>\n",
       "    <tr>\n",
       "      <th>1108</th>\n",
       "      <td>30.0</td>\n",
       "      <td>0.6</td>\n",
       "      <td>6.506500e-08</td>\n",
       "      <td>7.020826e-08</td>\n",
       "      <td>35</td>\n",
       "      <td>10</td>\n",
       "      <td>25</td>\n",
       "      <td>0.599882</td>\n",
       "      <td>-1574.987592</td>\n",
       "    </tr>\n",
       "    <tr>\n",
       "      <th>1109</th>\n",
       "      <td>30.0</td>\n",
       "      <td>0.8</td>\n",
       "      <td>1.475000e-07</td>\n",
       "      <td>1.596890e-07</td>\n",
       "      <td>35</td>\n",
       "      <td>10</td>\n",
       "      <td>25</td>\n",
       "      <td>0.599882</td>\n",
       "      <td>-1553.987592</td>\n",
       "    </tr>\n",
       "    <tr>\n",
       "      <th>1110</th>\n",
       "      <td>30.0</td>\n",
       "      <td>1.0</td>\n",
       "      <td>2.647200e-07</td>\n",
       "      <td>2.719828e-07</td>\n",
       "      <td>35</td>\n",
       "      <td>10</td>\n",
       "      <td>25</td>\n",
       "      <td>0.599882</td>\n",
       "      <td>-1532.987592</td>\n",
       "    </tr>\n",
       "    <tr>\n",
       "      <th>...</th>\n",
       "      <td>...</td>\n",
       "      <td>...</td>\n",
       "      <td>...</td>\n",
       "      <td>...</td>\n",
       "      <td>...</td>\n",
       "      <td>...</td>\n",
       "      <td>...</td>\n",
       "      <td>...</td>\n",
       "      <td>...</td>\n",
       "    </tr>\n",
       "    <tr>\n",
       "      <th>1201</th>\n",
       "      <td>30.0</td>\n",
       "      <td>19.2</td>\n",
       "      <td>5.308300e-04</td>\n",
       "      <td>5.376437e-04</td>\n",
       "      <td>35</td>\n",
       "      <td>10</td>\n",
       "      <td>25</td>\n",
       "      <td>0.599882</td>\n",
       "      <td>378.012408</td>\n",
       "    </tr>\n",
       "    <tr>\n",
       "      <th>1202</th>\n",
       "      <td>30.0</td>\n",
       "      <td>19.4</td>\n",
       "      <td>5.410700e-04</td>\n",
       "      <td>5.542579e-04</td>\n",
       "      <td>35</td>\n",
       "      <td>10</td>\n",
       "      <td>25</td>\n",
       "      <td>0.599882</td>\n",
       "      <td>399.012408</td>\n",
       "    </tr>\n",
       "    <tr>\n",
       "      <th>1203</th>\n",
       "      <td>30.0</td>\n",
       "      <td>19.6</td>\n",
       "      <td>5.513500e-04</td>\n",
       "      <td>5.578453e-04</td>\n",
       "      <td>35</td>\n",
       "      <td>10</td>\n",
       "      <td>25</td>\n",
       "      <td>0.599882</td>\n",
       "      <td>420.012408</td>\n",
       "    </tr>\n",
       "    <tr>\n",
       "      <th>1204</th>\n",
       "      <td>30.0</td>\n",
       "      <td>19.8</td>\n",
       "      <td>5.616900e-04</td>\n",
       "      <td>5.561214e-04</td>\n",
       "      <td>35</td>\n",
       "      <td>10</td>\n",
       "      <td>25</td>\n",
       "      <td>0.599882</td>\n",
       "      <td>441.012408</td>\n",
       "    </tr>\n",
       "    <tr>\n",
       "      <th>1205</th>\n",
       "      <td>30.0</td>\n",
       "      <td>20.0</td>\n",
       "      <td>5.720700e-04</td>\n",
       "      <td>5.702429e-04</td>\n",
       "      <td>35</td>\n",
       "      <td>10</td>\n",
       "      <td>25</td>\n",
       "      <td>0.599882</td>\n",
       "      <td>462.012408</td>\n",
       "    </tr>\n",
       "  </tbody>\n",
       "</table>\n",
       "<p>100 rows × 9 columns</p>\n",
       "</div>"
      ],
      "text/plain": [
       "       Vds   Vgs           Ids      Pred_Ids   W   L   T        Vt  \\\n",
       "1106  30.0   0.2  1.272500e-09  1.075219e-09  35  10  25  0.599882   \n",
       "1107  30.0   0.4  1.528500e-08  1.602962e-08  35  10  25  0.599882   \n",
       "1108  30.0   0.6  6.506500e-08  7.020826e-08  35  10  25  0.599882   \n",
       "1109  30.0   0.8  1.475000e-07  1.596890e-07  35  10  25  0.599882   \n",
       "1110  30.0   1.0  2.647200e-07  2.719828e-07  35  10  25  0.599882   \n",
       "...    ...   ...           ...           ...  ..  ..  ..       ...   \n",
       "1201  30.0  19.2  5.308300e-04  5.376437e-04  35  10  25  0.599882   \n",
       "1202  30.0  19.4  5.410700e-04  5.542579e-04  35  10  25  0.599882   \n",
       "1203  30.0  19.6  5.513500e-04  5.578453e-04  35  10  25  0.599882   \n",
       "1204  30.0  19.8  5.616900e-04  5.561214e-04  35  10  25  0.599882   \n",
       "1205  30.0  20.0  5.720700e-04  5.702429e-04  35  10  25  0.599882   \n",
       "\n",
       "            Drain  \n",
       "1106 -1616.987592  \n",
       "1107 -1595.987592  \n",
       "1108 -1574.987592  \n",
       "1109 -1553.987592  \n",
       "1110 -1532.987592  \n",
       "...           ...  \n",
       "1201   378.012408  \n",
       "1202   399.012408  \n",
       "1203   420.012408  \n",
       "1204   441.012408  \n",
       "1205   462.012408  \n",
       "\n",
       "[100 rows x 9 columns]"
      ]
     },
     "execution_count": 301,
     "metadata": {},
     "output_type": "execute_result"
    }
   ],
   "source": [
    "class_1_df.query('Vds=='+str(30.0))"
   ]
  }
 ],
 "metadata": {
  "interpreter": {
   "hash": "3829caa72e4f00bfa838cc8791f96dc30ddd90ae454d4eaf3d8b7ab9877dcc00"
  },
  "kernelspec": {
   "display_name": "Python 3.10.4 ('lg_display')",
   "language": "python",
   "name": "python3"
  },
  "language_info": {
   "codemirror_mode": {
    "name": "ipython",
    "version": 3
   },
   "file_extension": ".py",
   "mimetype": "text/x-python",
   "name": "python",
   "nbconvert_exporter": "python",
   "pygments_lexer": "ipython3",
   "version": "3.10.4"
  },
  "orig_nbformat": 4
 },
 "nbformat": 4,
 "nbformat_minor": 2
}
