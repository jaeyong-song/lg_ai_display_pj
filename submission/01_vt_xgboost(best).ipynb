{
 "cells": [
  {
   "cell_type": "markdown",
   "metadata": {},
   "source": [
    "# Vt XGBoost Modeling for Vt Feature Generation"
   ]
  },
  {
   "cell_type": "code",
   "execution_count": 1,
   "metadata": {},
   "outputs": [],
   "source": [
    "import torch\n",
    "import xgboost\n",
    "import matplotlib.pyplot as plt\n",
    "from sklearn.model_selection import train_test_split\n",
    "from sklearn.metrics import explained_variance_score\n",
    "import pandas as pd\n",
    "import numpy as np"
   ]
  },
  {
   "cell_type": "code",
   "execution_count": 2,
   "metadata": {},
   "outputs": [],
   "source": [
    "full_df = pd.read_csv('./vt_data/vt_train.csv')\n",
    "full_y = full_df[['Vt']].to_numpy()\n",
    "full_X = full_df[['W','L','T','Vds']].to_numpy()"
   ]
  },
  {
   "cell_type": "code",
   "execution_count": 3,
   "metadata": {},
   "outputs": [
    {
     "data": {
      "text/html": [
       "<style>#sk-container-id-1 {color: black;background-color: white;}#sk-container-id-1 pre{padding: 0;}#sk-container-id-1 div.sk-toggleable {background-color: white;}#sk-container-id-1 label.sk-toggleable__label {cursor: pointer;display: block;width: 100%;margin-bottom: 0;padding: 0.3em;box-sizing: border-box;text-align: center;}#sk-container-id-1 label.sk-toggleable__label-arrow:before {content: \"▸\";float: left;margin-right: 0.25em;color: #696969;}#sk-container-id-1 label.sk-toggleable__label-arrow:hover:before {color: black;}#sk-container-id-1 div.sk-estimator:hover label.sk-toggleable__label-arrow:before {color: black;}#sk-container-id-1 div.sk-toggleable__content {max-height: 0;max-width: 0;overflow: hidden;text-align: left;background-color: #f0f8ff;}#sk-container-id-1 div.sk-toggleable__content pre {margin: 0.2em;color: black;border-radius: 0.25em;background-color: #f0f8ff;}#sk-container-id-1 input.sk-toggleable__control:checked~div.sk-toggleable__content {max-height: 200px;max-width: 100%;overflow: auto;}#sk-container-id-1 input.sk-toggleable__control:checked~label.sk-toggleable__label-arrow:before {content: \"▾\";}#sk-container-id-1 div.sk-estimator input.sk-toggleable__control:checked~label.sk-toggleable__label {background-color: #d4ebff;}#sk-container-id-1 div.sk-label input.sk-toggleable__control:checked~label.sk-toggleable__label {background-color: #d4ebff;}#sk-container-id-1 input.sk-hidden--visually {border: 0;clip: rect(1px 1px 1px 1px);clip: rect(1px, 1px, 1px, 1px);height: 1px;margin: -1px;overflow: hidden;padding: 0;position: absolute;width: 1px;}#sk-container-id-1 div.sk-estimator {font-family: monospace;background-color: #f0f8ff;border: 1px dotted black;border-radius: 0.25em;box-sizing: border-box;margin-bottom: 0.5em;}#sk-container-id-1 div.sk-estimator:hover {background-color: #d4ebff;}#sk-container-id-1 div.sk-parallel-item::after {content: \"\";width: 100%;border-bottom: 1px solid gray;flex-grow: 1;}#sk-container-id-1 div.sk-label:hover label.sk-toggleable__label {background-color: #d4ebff;}#sk-container-id-1 div.sk-serial::before {content: \"\";position: absolute;border-left: 1px solid gray;box-sizing: border-box;top: 0;bottom: 0;left: 50%;z-index: 0;}#sk-container-id-1 div.sk-serial {display: flex;flex-direction: column;align-items: center;background-color: white;padding-right: 0.2em;padding-left: 0.2em;position: relative;}#sk-container-id-1 div.sk-item {position: relative;z-index: 1;}#sk-container-id-1 div.sk-parallel {display: flex;align-items: stretch;justify-content: center;background-color: white;position: relative;}#sk-container-id-1 div.sk-item::before, #sk-container-id-1 div.sk-parallel-item::before {content: \"\";position: absolute;border-left: 1px solid gray;box-sizing: border-box;top: 0;bottom: 0;left: 50%;z-index: -1;}#sk-container-id-1 div.sk-parallel-item {display: flex;flex-direction: column;z-index: 1;position: relative;background-color: white;}#sk-container-id-1 div.sk-parallel-item:first-child::after {align-self: flex-end;width: 50%;}#sk-container-id-1 div.sk-parallel-item:last-child::after {align-self: flex-start;width: 50%;}#sk-container-id-1 div.sk-parallel-item:only-child::after {width: 0;}#sk-container-id-1 div.sk-dashed-wrapped {border: 1px dashed gray;margin: 0 0.4em 0.5em 0.4em;box-sizing: border-box;padding-bottom: 0.4em;background-color: white;}#sk-container-id-1 div.sk-label label {font-family: monospace;font-weight: bold;display: inline-block;line-height: 1.2em;}#sk-container-id-1 div.sk-label-container {text-align: center;}#sk-container-id-1 div.sk-container {/* jupyter's `normalize.less` sets `[hidden] { display: none; }` but bootstrap.min.css set `[hidden] { display: none !important; }` so we also need the `!important` here to be able to override the default hidden behavior on the sphinx rendered scikit-learn.org. See: https://github.com/scikit-learn/scikit-learn/issues/21755 */display: inline-block !important;position: relative;}#sk-container-id-1 div.sk-text-repr-fallback {display: none;}</style><div id=\"sk-container-id-1\" class=\"sk-top-container\"><div class=\"sk-text-repr-fallback\"><pre>XGBRegressor(base_score=0.5, booster=&#x27;gbtree&#x27;, callbacks=None,\n",
       "             colsample_bylevel=1, colsample_bynode=1, colsample_bytree=1,\n",
       "             early_stopping_rounds=None, enable_categorical=False,\n",
       "             eval_metric=None, gamma=0, gpu_id=-1, grow_policy=&#x27;depthwise&#x27;,\n",
       "             importance_type=None, interaction_constraints=&#x27;&#x27;,\n",
       "             learning_rate=0.300000012, max_bin=256, max_cat_to_onehot=4,\n",
       "             max_delta_step=0, max_depth=6, max_leaves=0, min_child_weight=1,\n",
       "             missing=nan, monotone_constraints=&#x27;()&#x27;, n_estimators=100, n_jobs=0,\n",
       "             num_parallel_tree=1, predictor=&#x27;auto&#x27;, random_state=0, reg_alpha=0,\n",
       "             reg_lambda=1, ...)</pre><b>In a Jupyter environment, please rerun this cell to show the HTML representation or trust the notebook. <br />On GitHub, the HTML representation is unable to render, please try loading this page with nbviewer.org.</b></div><div class=\"sk-container\" hidden><div class=\"sk-item\"><div class=\"sk-estimator sk-toggleable\"><input class=\"sk-toggleable__control sk-hidden--visually\" id=\"sk-estimator-id-1\" type=\"checkbox\" checked><label for=\"sk-estimator-id-1\" class=\"sk-toggleable__label sk-toggleable__label-arrow\">XGBRegressor</label><div class=\"sk-toggleable__content\"><pre>XGBRegressor(base_score=0.5, booster=&#x27;gbtree&#x27;, callbacks=None,\n",
       "             colsample_bylevel=1, colsample_bynode=1, colsample_bytree=1,\n",
       "             early_stopping_rounds=None, enable_categorical=False,\n",
       "             eval_metric=None, gamma=0, gpu_id=-1, grow_policy=&#x27;depthwise&#x27;,\n",
       "             importance_type=None, interaction_constraints=&#x27;&#x27;,\n",
       "             learning_rate=0.300000012, max_bin=256, max_cat_to_onehot=4,\n",
       "             max_delta_step=0, max_depth=6, max_leaves=0, min_child_weight=1,\n",
       "             missing=nan, monotone_constraints=&#x27;()&#x27;, n_estimators=100, n_jobs=0,\n",
       "             num_parallel_tree=1, predictor=&#x27;auto&#x27;, random_state=0, reg_alpha=0,\n",
       "             reg_lambda=1, ...)</pre></div></div></div></div></div>"
      ],
      "text/plain": [
       "XGBRegressor(base_score=0.5, booster='gbtree', callbacks=None,\n",
       "             colsample_bylevel=1, colsample_bynode=1, colsample_bytree=1,\n",
       "             early_stopping_rounds=None, enable_categorical=False,\n",
       "             eval_metric=None, gamma=0, gpu_id=-1, grow_policy='depthwise',\n",
       "             importance_type=None, interaction_constraints='',\n",
       "             learning_rate=0.300000012, max_bin=256, max_cat_to_onehot=4,\n",
       "             max_delta_step=0, max_depth=6, max_leaves=0, min_child_weight=1,\n",
       "             missing=nan, monotone_constraints='()', n_estimators=100, n_jobs=0,\n",
       "             num_parallel_tree=1, predictor='auto', random_state=0, reg_alpha=0,\n",
       "             reg_lambda=1, ...)"
      ]
     },
     "execution_count": 3,
     "metadata": {},
     "output_type": "execute_result"
    }
   ],
   "source": [
    "xgb_model = xgboost.XGBRegressor(objective='reg:squarederror')\n",
    "xgb_model.fit(full_X, full_y)"
   ]
  },
  {
   "cell_type": "code",
   "execution_count": 4,
   "metadata": {},
   "outputs": [
    {
     "data": {
      "text/plain": [
       "<AxesSubplot:title={'center':'Feature importance'}, xlabel='F score', ylabel='Features'>"
      ]
     },
     "execution_count": 4,
     "metadata": {},
     "output_type": "execute_result"
    },
    {
     "data": {
      "image/png": "[encoded data removed]",
      "text/plain": [
       "<Figure size 432x288 with 1 Axes>"
      ]
     },
     "metadata": {
      "needs_background": "light"
     },
     "output_type": "display_data"
    }
   ],
   "source": [
    "xgboost.plot_importance(xgb_model)"
   ]
  },
  {
   "cell_type": "code",
   "execution_count": 5,
   "metadata": {},
   "outputs": [],
   "source": [
    "test_df = pd.read_csv('./vt_data/vt_test.csv')\n",
    "test_y = full_df[['Vt']].to_numpy()\n",
    "test_X = full_df[['W','L','T','Vds']].to_numpy()"
   ]
  },
  {
   "cell_type": "code",
   "execution_count": 6,
   "metadata": {},
   "outputs": [
    {
     "data": {
      "text/plain": [
       "array([9.9994725e-01, 6.0004443e-01, 6.0012454e-01, 6.0001171e-01,\n",
       "       3.9999452e-01, 3.3170360e-04, 9.9994725e-01, 6.0004443e-01,\n",
       "       6.0012454e-01, 6.0001171e-01, 3.9999452e-01, 3.3170360e-04,\n",
       "       9.9978954e-01, 6.0017973e-01, 5.9974921e-01, 6.0004014e-01,\n",
       "       4.0000618e-01, 3.6455781e-04, 9.9994725e-01, 8.0041170e-01,\n",
       "       7.9832155e-01, 6.0091048e-01, 5.9993345e-01, 3.9993683e-01,\n",
       "       9.9994725e-01, 8.0041170e-01, 7.9832155e-01, 6.0091048e-01,\n",
       "       5.9993345e-01, 3.9993683e-01, 9.9993408e-01, 7.9829031e-01,\n",
       "       6.0448688e-01, 5.9804773e-01, 5.9992176e-01, 3.9996248e-01,\n",
       "       1.0001142e+00, 7.9990453e-01, 8.0026609e-01, 7.9985088e-01,\n",
       "       6.0020626e-01, 5.9983683e-01, 1.0001142e+00, 7.9990453e-01,\n",
       "       8.0026609e-01, 7.9985088e-01, 6.0020626e-01, 5.9983683e-01,\n",
       "       9.9993408e-01, 8.0032158e-01, 7.9885697e-01, 8.0039138e-01,\n",
       "       5.9952784e-01, 4.0092903e-01, 9.9984068e-01, 7.9995811e-01,\n",
       "       8.0026609e-01, 7.9985088e-01, 6.0014117e-01, 6.0001957e-01,\n",
       "       9.9984068e-01, 7.9995811e-01, 8.0026609e-01, 7.9985088e-01,\n",
       "       6.0014117e-01, 6.0001957e-01, 1.1994795e+00, 8.0032158e-01,\n",
       "       7.9885697e-01, 8.0039138e-01, 6.0032165e-01, 5.9946352e-01,\n",
       "       9.9994725e-01, 6.0004443e-01, 6.0012454e-01, 6.0001171e-01,\n",
       "       3.9999452e-01, 3.3170360e-04, 9.9994725e-01, 6.0004443e-01,\n",
       "       6.0012454e-01, 6.0001171e-01, 3.9999452e-01, 3.3170360e-04,\n",
       "       9.9978954e-01, 6.0017973e-01, 5.9974921e-01, 6.0004014e-01,\n",
       "       4.0000618e-01, 3.6455781e-04, 9.9994725e-01, 8.0041170e-01,\n",
       "       7.9832155e-01, 6.0091048e-01, 5.9993345e-01, 3.9993683e-01,\n",
       "       9.9994725e-01, 8.0041170e-01, 7.9832155e-01, 6.0091048e-01,\n",
       "       5.9993345e-01, 3.9993683e-01, 9.9993408e-01, 7.9829031e-01,\n",
       "       6.0448688e-01, 5.9804773e-01, 5.9992176e-01, 3.9996248e-01,\n",
       "       1.0001142e+00, 7.9990453e-01, 8.0026609e-01, 7.9985088e-01,\n",
       "       6.0020626e-01, 5.9983683e-01, 1.0001142e+00, 7.9990453e-01,\n",
       "       8.0026609e-01, 7.9985088e-01, 6.0020626e-01, 5.9983683e-01,\n",
       "       9.9993408e-01, 8.0032158e-01, 7.9885697e-01, 8.0039138e-01,\n",
       "       5.9952784e-01, 4.0092903e-01, 9.9984068e-01, 7.9995811e-01,\n",
       "       8.0026609e-01, 7.9985088e-01, 6.0014117e-01, 6.0001957e-01,\n",
       "       9.9984068e-01, 7.9995811e-01, 8.0026609e-01, 7.9985088e-01,\n",
       "       6.0014117e-01, 6.0001957e-01, 1.1994795e+00, 8.0032158e-01,\n",
       "       7.9885697e-01, 8.0039138e-01, 6.0032165e-01, 5.9946352e-01,\n",
       "       9.9994725e-01, 6.0004443e-01, 6.0012454e-01, 6.0001171e-01,\n",
       "       3.9999452e-01, 3.3170360e-04, 9.9994725e-01, 6.0004443e-01,\n",
       "       6.0012454e-01, 6.0001171e-01, 3.9999452e-01, 3.3170360e-04,\n",
       "       9.9978954e-01, 6.0017973e-01, 5.9974921e-01, 6.0004014e-01,\n",
       "       4.0000618e-01, 3.6455781e-04, 9.9994725e-01, 8.0041170e-01,\n",
       "       7.9832155e-01, 6.0091048e-01, 5.9993345e-01, 3.9993683e-01,\n",
       "       9.9993408e-01, 7.9829031e-01, 6.0448688e-01, 5.9804773e-01,\n",
       "       5.9992176e-01, 3.9996248e-01, 1.0001142e+00, 7.9990453e-01,\n",
       "       8.0026609e-01, 7.9985088e-01, 6.0020626e-01, 5.9983683e-01,\n",
       "       1.0001142e+00, 7.9990453e-01, 8.0026609e-01, 7.9985088e-01,\n",
       "       6.0020626e-01, 5.9983683e-01, 9.9993408e-01, 8.0032158e-01,\n",
       "       7.9885697e-01, 8.0039138e-01, 5.9952784e-01, 4.0092903e-01,\n",
       "       9.9984068e-01, 7.9995811e-01, 8.0026609e-01, 7.9985088e-01,\n",
       "       6.0014117e-01, 6.0001957e-01, 9.9984068e-01, 7.9995811e-01,\n",
       "       8.0026609e-01, 7.9985088e-01, 6.0014117e-01, 6.0001957e-01,\n",
       "       1.1994795e+00, 8.0032158e-01, 7.9885697e-01, 8.0039138e-01,\n",
       "       6.0032165e-01, 5.9946352e-01, 9.9994725e-01, 6.0004443e-01,\n",
       "       6.0012454e-01, 6.0001171e-01, 3.9999452e-01, 3.3170360e-04,\n",
       "       9.9994725e-01, 6.0004443e-01, 6.0012454e-01, 6.0001171e-01,\n",
       "       3.9999452e-01, 3.3170360e-04, 9.9978954e-01, 6.0017973e-01,\n",
       "       5.9974921e-01, 6.0004014e-01, 4.0000618e-01, 3.6455781e-04,\n",
       "       9.9994725e-01, 8.0041170e-01, 7.9832155e-01, 6.0091048e-01,\n",
       "       5.9993345e-01, 3.9993683e-01, 9.9994725e-01, 8.0041170e-01,\n",
       "       7.9832155e-01, 6.0091048e-01, 5.9993345e-01, 3.9993683e-01,\n",
       "       9.9993408e-01, 7.9829031e-01, 6.0448688e-01, 5.9804773e-01,\n",
       "       5.9992176e-01, 3.9996248e-01, 1.0001142e+00, 7.9990453e-01,\n",
       "       8.0026609e-01, 7.9985088e-01, 6.0020626e-01, 5.9983683e-01,\n",
       "       1.0001142e+00, 7.9990453e-01, 8.0026609e-01, 7.9985088e-01,\n",
       "       6.0020626e-01, 5.9983683e-01, 9.9993408e-01, 8.0032158e-01,\n",
       "       7.9885697e-01, 8.0039138e-01, 5.9952784e-01, 4.0092903e-01,\n",
       "       9.9984068e-01, 7.9995811e-01, 8.0026609e-01, 7.9985088e-01,\n",
       "       6.0014117e-01, 6.0001957e-01, 9.9984068e-01, 7.9995811e-01,\n",
       "       8.0026609e-01, 7.9985088e-01, 6.0014117e-01, 6.0001957e-01,\n",
       "       1.1994795e+00, 8.0032158e-01, 7.9885697e-01, 8.0039138e-01,\n",
       "       6.0032165e-01, 5.9946352e-01, 9.9994725e-01, 6.0004443e-01,\n",
       "       6.0012454e-01, 6.0001171e-01, 3.9999452e-01, 3.3170360e-04,\n",
       "       9.9994725e-01, 6.0004443e-01, 6.0012454e-01, 6.0001171e-01,\n",
       "       3.9999452e-01, 3.3170360e-04, 9.9978954e-01, 6.0017973e-01,\n",
       "       5.9974921e-01, 6.0004014e-01, 4.0000618e-01, 3.6455781e-04,\n",
       "       9.9994725e-01, 8.0041170e-01, 7.9832155e-01, 6.0091048e-01,\n",
       "       5.9993345e-01, 3.9993683e-01, 9.9994725e-01, 8.0041170e-01,\n",
       "       7.9832155e-01, 6.0091048e-01, 5.9993345e-01, 3.9993683e-01,\n",
       "       9.9993408e-01, 7.9829031e-01, 6.0448688e-01, 5.9804773e-01,\n",
       "       5.9992176e-01, 3.9996248e-01, 1.0001142e+00, 7.9990453e-01,\n",
       "       8.0026609e-01, 7.9985088e-01, 6.0020626e-01, 5.9983683e-01,\n",
       "       1.0001142e+00, 7.9990453e-01, 8.0026609e-01, 7.9985088e-01,\n",
       "       6.0020626e-01, 5.9983683e-01, 9.9993408e-01, 8.0032158e-01,\n",
       "       7.9885697e-01, 8.0039138e-01, 5.9952784e-01, 4.0092903e-01,\n",
       "       9.9984068e-01, 7.9995811e-01, 8.0026609e-01, 7.9985088e-01,\n",
       "       6.0014117e-01, 6.0001957e-01, 9.9984068e-01, 7.9995811e-01,\n",
       "       8.0026609e-01, 7.9985088e-01, 6.0014117e-01, 6.0001957e-01,\n",
       "       1.1994795e+00, 8.0032158e-01, 7.9885697e-01, 8.0039138e-01,\n",
       "       6.0032165e-01, 5.9946352e-01, 9.9994725e-01, 6.0004443e-01,\n",
       "       6.0012454e-01, 6.0001171e-01, 3.9999452e-01, 3.3170360e-04,\n",
       "       9.9994725e-01, 6.0004443e-01, 6.0012454e-01, 6.0001171e-01,\n",
       "       3.9999452e-01, 3.3170360e-04, 9.9978954e-01, 6.0017973e-01,\n",
       "       5.9974921e-01, 6.0004014e-01, 4.0000618e-01, 3.6455781e-04,\n",
       "       9.9994725e-01, 8.0041170e-01, 7.9832155e-01, 6.0091048e-01,\n",
       "       5.9993345e-01, 3.9993683e-01, 9.9994725e-01, 8.0041170e-01,\n",
       "       7.9832155e-01, 6.0091048e-01, 5.9993345e-01, 3.9993683e-01,\n",
       "       9.9993408e-01, 7.9829031e-01, 6.0448688e-01, 5.9804773e-01,\n",
       "       5.9992176e-01, 3.9996248e-01, 1.0001142e+00, 7.9990453e-01,\n",
       "       8.0026609e-01, 7.9985088e-01, 6.0020626e-01, 5.9983683e-01,\n",
       "       1.0001142e+00, 7.9990453e-01, 8.0026609e-01, 7.9985088e-01,\n",
       "       6.0020626e-01, 5.9983683e-01, 9.9993408e-01, 8.0032158e-01,\n",
       "       7.9885697e-01, 8.0039138e-01, 5.9952784e-01, 4.0092903e-01,\n",
       "       9.9984068e-01, 7.9995811e-01, 8.0026609e-01, 7.9985088e-01,\n",
       "       6.0014117e-01, 6.0001957e-01, 9.9984068e-01, 7.9995811e-01,\n",
       "       8.0026609e-01, 7.9985088e-01, 6.0014117e-01, 6.0001957e-01,\n",
       "       1.1994795e+00, 8.0032158e-01, 7.9885697e-01, 8.0039138e-01,\n",
       "       6.0032165e-01, 5.9946352e-01], dtype=float32)"
      ]
     },
     "execution_count": 6,
     "metadata": {},
     "output_type": "execute_result"
    }
   ],
   "source": [
    "predictions = xgb_model.predict(test_X)\n",
    "predictions"
   ]
  },
  {
   "cell_type": "code",
   "execution_count": 7,
   "metadata": {},
   "outputs": [
    {
     "data": {
      "text/plain": [
       "array([ 1.0000e+00,  6.0000e-01,  6.0000e-01,  6.0000e-01,  4.0000e-01,\n",
       "       -3.7581e-14,  1.0000e+00,  6.0000e-01,  6.0000e-01,  6.0000e-01,\n",
       "        4.0000e-01, -3.7581e-14,  1.0000e+00,  6.0000e-01,  6.0000e-01,\n",
       "        6.0000e-01,  4.0000e-01, -3.7581e-14,  1.0000e+00,  8.0000e-01,\n",
       "        8.0000e-01,  6.0000e-01,  6.0000e-01,  4.0000e-01,  1.0000e+00,\n",
       "        8.0000e-01,  8.0000e-01,  6.0000e-01,  6.0000e-01,  4.0000e-01,\n",
       "        1.0000e+00,  8.0000e-01,  6.0000e-01,  6.0000e-01,  6.0000e-01,\n",
       "        4.0000e-01,  1.0000e+00,  8.0000e-01,  8.0000e-01,  8.0000e-01,\n",
       "        6.0000e-01,  6.0000e-01,  1.0000e+00,  8.0000e-01,  8.0000e-01,\n",
       "        8.0000e-01,  6.0000e-01,  6.0000e-01,  1.0000e+00,  8.0000e-01,\n",
       "        8.0000e-01,  8.0000e-01,  6.0000e-01,  4.0000e-01,  1.0000e+00,\n",
       "        8.0000e-01,  8.0000e-01,  8.0000e-01,  6.0000e-01,  6.0000e-01,\n",
       "        1.0000e+00,  8.0000e-01,  8.0000e-01,  8.0000e-01,  6.0000e-01,\n",
       "        6.0000e-01,  1.2000e+00,  8.0000e-01,  8.0000e-01,  8.0000e-01,\n",
       "        6.0000e-01,  6.0000e-01,  1.0000e+00,  6.0000e-01,  6.0000e-01,\n",
       "        6.0000e-01,  4.0000e-01, -3.7581e-14,  1.0000e+00,  6.0000e-01,\n",
       "        6.0000e-01,  6.0000e-01,  4.0000e-01, -3.7581e-14,  1.0000e+00,\n",
       "        6.0000e-01,  6.0000e-01,  6.0000e-01,  4.0000e-01, -3.7581e-14,\n",
       "        1.0000e+00,  8.0000e-01,  8.0000e-01,  6.0000e-01,  6.0000e-01,\n",
       "        4.0000e-01,  1.0000e+00,  8.0000e-01,  8.0000e-01,  6.0000e-01,\n",
       "        6.0000e-01,  4.0000e-01,  1.0000e+00,  8.0000e-01,  6.0000e-01,\n",
       "        6.0000e-01,  6.0000e-01,  4.0000e-01,  1.0000e+00,  8.0000e-01,\n",
       "        8.0000e-01,  8.0000e-01,  6.0000e-01,  6.0000e-01,  1.0000e+00,\n",
       "        8.0000e-01,  8.0000e-01,  8.0000e-01,  6.0000e-01,  6.0000e-01,\n",
       "        1.0000e+00,  8.0000e-01,  8.0000e-01,  8.0000e-01,  6.0000e-01,\n",
       "        4.0000e-01,  1.0000e+00,  8.0000e-01,  8.0000e-01,  8.0000e-01,\n",
       "        6.0000e-01,  6.0000e-01,  1.0000e+00,  8.0000e-01,  8.0000e-01,\n",
       "        8.0000e-01,  6.0000e-01,  6.0000e-01,  1.2000e+00,  8.0000e-01,\n",
       "        8.0000e-01,  8.0000e-01,  6.0000e-01,  6.0000e-01,  1.0000e+00,\n",
       "        6.0000e-01,  6.0000e-01,  6.0000e-01,  4.0000e-01, -3.7581e-14,\n",
       "        1.0000e+00,  6.0000e-01,  6.0000e-01,  6.0000e-01,  4.0000e-01,\n",
       "       -3.7581e-14,  1.0000e+00,  6.0000e-01,  6.0000e-01,  6.0000e-01,\n",
       "        4.0000e-01, -3.7581e-14,  1.0000e+00,  8.0000e-01,  8.0000e-01,\n",
       "        6.0000e-01,  6.0000e-01,  4.0000e-01,  1.0000e+00,  8.0000e-01,\n",
       "        6.0000e-01,  6.0000e-01,  6.0000e-01,  4.0000e-01,  1.0000e+00,\n",
       "        8.0000e-01,  8.0000e-01,  8.0000e-01,  6.0000e-01,  6.0000e-01,\n",
       "        1.0000e+00,  8.0000e-01,  8.0000e-01,  8.0000e-01,  6.0000e-01,\n",
       "        6.0000e-01,  1.0000e+00,  8.0000e-01,  8.0000e-01,  8.0000e-01,\n",
       "        6.0000e-01,  4.0000e-01,  1.0000e+00,  8.0000e-01,  8.0000e-01,\n",
       "        8.0000e-01,  6.0000e-01,  6.0000e-01,  1.0000e+00,  8.0000e-01,\n",
       "        8.0000e-01,  8.0000e-01,  6.0000e-01,  6.0000e-01,  1.2000e+00,\n",
       "        8.0000e-01,  8.0000e-01,  8.0000e-01,  6.0000e-01,  6.0000e-01,\n",
       "        1.0000e+00,  6.0000e-01,  6.0000e-01,  6.0000e-01,  4.0000e-01,\n",
       "       -3.7581e-14,  1.0000e+00,  6.0000e-01,  6.0000e-01,  6.0000e-01,\n",
       "        4.0000e-01, -3.7581e-14,  1.0000e+00,  6.0000e-01,  6.0000e-01,\n",
       "        6.0000e-01,  4.0000e-01, -3.7581e-14,  1.0000e+00,  8.0000e-01,\n",
       "        8.0000e-01,  6.0000e-01,  6.0000e-01,  4.0000e-01,  1.0000e+00,\n",
       "        8.0000e-01,  8.0000e-01,  6.0000e-01,  6.0000e-01,  4.0000e-01,\n",
       "        1.0000e+00,  8.0000e-01,  6.0000e-01,  6.0000e-01,  6.0000e-01,\n",
       "        4.0000e-01,  1.0000e+00,  8.0000e-01,  8.0000e-01,  8.0000e-01,\n",
       "        6.0000e-01,  6.0000e-01,  1.0000e+00,  8.0000e-01,  8.0000e-01,\n",
       "        8.0000e-01,  6.0000e-01,  6.0000e-01,  1.0000e+00,  8.0000e-01,\n",
       "        8.0000e-01,  8.0000e-01,  6.0000e-01,  4.0000e-01,  1.0000e+00,\n",
       "        8.0000e-01,  8.0000e-01,  8.0000e-01,  6.0000e-01,  6.0000e-01,\n",
       "        1.0000e+00,  8.0000e-01,  8.0000e-01,  8.0000e-01,  6.0000e-01,\n",
       "        6.0000e-01,  1.2000e+00,  8.0000e-01,  8.0000e-01,  8.0000e-01,\n",
       "        6.0000e-01,  6.0000e-01,  1.0000e+00,  6.0000e-01,  6.0000e-01,\n",
       "        6.0000e-01,  4.0000e-01, -3.7581e-14,  1.0000e+00,  6.0000e-01,\n",
       "        6.0000e-01,  6.0000e-01,  4.0000e-01, -3.7581e-14,  1.0000e+00,\n",
       "        6.0000e-01,  6.0000e-01,  6.0000e-01,  4.0000e-01, -3.7581e-14,\n",
       "        1.0000e+00,  8.0000e-01,  8.0000e-01,  6.0000e-01,  6.0000e-01,\n",
       "        4.0000e-01,  1.0000e+00,  8.0000e-01,  8.0000e-01,  6.0000e-01,\n",
       "        6.0000e-01,  4.0000e-01,  1.0000e+00,  8.0000e-01,  6.0000e-01,\n",
       "        6.0000e-01,  6.0000e-01,  4.0000e-01,  1.0000e+00,  8.0000e-01,\n",
       "        8.0000e-01,  8.0000e-01,  6.0000e-01,  6.0000e-01,  1.0000e+00,\n",
       "        8.0000e-01,  8.0000e-01,  8.0000e-01,  6.0000e-01,  6.0000e-01,\n",
       "        1.0000e+00,  8.0000e-01,  8.0000e-01,  8.0000e-01,  6.0000e-01,\n",
       "        4.0000e-01,  1.0000e+00,  8.0000e-01,  8.0000e-01,  8.0000e-01,\n",
       "        6.0000e-01,  6.0000e-01,  1.0000e+00,  8.0000e-01,  8.0000e-01,\n",
       "        8.0000e-01,  6.0000e-01,  6.0000e-01,  1.2000e+00,  8.0000e-01,\n",
       "        8.0000e-01,  8.0000e-01,  6.0000e-01,  6.0000e-01,  1.0000e+00,\n",
       "        6.0000e-01,  6.0000e-01,  6.0000e-01,  4.0000e-01, -3.7581e-14,\n",
       "        1.0000e+00,  6.0000e-01,  6.0000e-01,  6.0000e-01,  4.0000e-01,\n",
       "       -3.7581e-14,  1.0000e+00,  6.0000e-01,  6.0000e-01,  6.0000e-01,\n",
       "        4.0000e-01, -3.7581e-14,  1.0000e+00,  8.0000e-01,  8.0000e-01,\n",
       "        6.0000e-01,  6.0000e-01,  4.0000e-01,  1.0000e+00,  8.0000e-01,\n",
       "        8.0000e-01,  6.0000e-01,  6.0000e-01,  4.0000e-01,  1.0000e+00,\n",
       "        8.0000e-01,  6.0000e-01,  6.0000e-01,  6.0000e-01,  4.0000e-01,\n",
       "        1.0000e+00,  8.0000e-01,  8.0000e-01,  8.0000e-01,  6.0000e-01,\n",
       "        6.0000e-01,  1.0000e+00,  8.0000e-01,  8.0000e-01,  8.0000e-01,\n",
       "        6.0000e-01,  6.0000e-01,  1.0000e+00,  8.0000e-01,  8.0000e-01,\n",
       "        8.0000e-01,  6.0000e-01,  4.0000e-01,  1.0000e+00,  8.0000e-01,\n",
       "        8.0000e-01,  8.0000e-01,  6.0000e-01,  6.0000e-01,  1.0000e+00,\n",
       "        8.0000e-01,  8.0000e-01,  8.0000e-01,  6.0000e-01,  6.0000e-01,\n",
       "        1.2000e+00,  8.0000e-01,  8.0000e-01,  8.0000e-01,  6.0000e-01,\n",
       "        6.0000e-01])"
      ]
     },
     "execution_count": 7,
     "metadata": {},
     "output_type": "execute_result"
    }
   ],
   "source": [
    "test_y.flatten()"
   ]
  },
  {
   "cell_type": "code",
   "execution_count": 8,
   "metadata": {},
   "outputs": [
    {
     "name": "stdout",
     "output_type": "stream",
     "text": [
      "0.9999894690396179\n",
      "0.9999894564978083\n"
     ]
    }
   ],
   "source": [
    "r_sq = xgb_model.score(full_X, full_y)\n",
    "print(r_sq)\n",
    "print(explained_variance_score(predictions, test_y))"
   ]
  },
  {
   "cell_type": "code",
   "execution_count": 9,
   "metadata": {},
   "outputs": [],
   "source": [
    "xgb_model.save_model('./checkpoints/vt_xgboost.model')"
   ]
  }
 ],
 "metadata": {
  "interpreter": {
   "hash": "3829caa72e4f00bfa838cc8791f96dc30ddd90ae454d4eaf3d8b7ab9877dcc00"
  },
  "kernelspec": {
   "display_name": "Python 3.10.4 ('lg_display')",
   "language": "python",
   "name": "python3"
  },
  "language_info": {
   "codemirror_mode": {
    "name": "ipython",
    "version": 3
   },
   "file_extension": ".py",
   "mimetype": "text/x-python",
   "name": "python",
   "nbconvert_exporter": "python",
   "pygments_lexer": "ipython3",
   "version": "3.10.4"
  },
  "orig_nbformat": 4
 },
 "nbformat": 4,
 "nbformat_minor": 2
}
