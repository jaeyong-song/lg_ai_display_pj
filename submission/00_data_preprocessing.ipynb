{
 "cells": [
  {
   "cell_type": "markdown",
   "metadata": {},
   "source": [
    "# Data Preprocessing (Merging / Vt Datset Making)"
   ]
  },
  {
   "cell_type": "code",
   "execution_count": 1,
   "metadata": {},
   "outputs": [],
   "source": [
    "import pandas as pd\n",
    "import matplotlib.pyplot as plt\n",
    "import numpy as np\n",
    "import math"
   ]
  },
  {
   "cell_type": "code",
   "execution_count": 2,
   "metadata": {},
   "outputs": [],
   "source": [
    "WIDTHS = [10, 20, 35, 50, 100, 1000]\n",
    "LENGTHS = [5, 8, 10, 12]\n",
    "TEMPS = [0, 25, 80]"
   ]
  },
  {
   "cell_type": "markdown",
   "metadata": {},
   "source": [
    "## 1) Merge Train Data\n",
    "We'll exclude W=35, L=8, T=25 for presentation test dataset.\\\n",
    "For submission, include this case to train dataset."
   ]
  },
  {
   "cell_type": "code",
   "execution_count": 3,
   "metadata": {},
   "outputs": [],
   "source": [
    "total_df = None\n",
    "is_first = True\n",
    "\n",
    "for width in WIDTHS:\n",
    "    for length in LENGTHS:\n",
    "        for temperature in TEMPS:\n",
    "            if width == 35 and length == 8 and temperature == 25: # only for presentation sample test dataset\n",
    "                pass\n",
    "            else:\n",
    "                cur_df = pd.read_csv('./train_data/'+'W'+str(width)+'L'+str(length)+'T'+str(temperature)+'.csv')\n",
    "                if is_first:\n",
    "                    total_df = cur_df\n",
    "                    is_first = False\n",
    "                else:\n",
    "                    total_df = pd.concat([total_df, cur_df])"
   ]
  },
  {
   "cell_type": "code",
   "execution_count": 4,
   "metadata": {},
   "outputs": [],
   "source": [
    "total_df.to_csv('./train_data/merged_train.csv', index=False)"
   ]
  },
  {
   "cell_type": "markdown",
   "metadata": {},
   "source": [
    "## 2) Vt Dataset Making\n",
    "We'll exclude W=35, L=8, T=25 for presentation test dataset.\\\n",
    "For submission, include this case to train dataset."
   ]
  },
  {
   "cell_type": "code",
   "execution_count": 5,
   "metadata": {},
   "outputs": [],
   "source": [
    "def get_vt_point_list(width, length, temperature, train=True):\n",
    "    v_threshold_point_list = []\n",
    "    std_value = [math.log(1e-8*width/length)]\n",
    "    if train:\n",
    "        df = pd.read_csv('./train_data/'+ 'W' + str(width) + 'L' + str(length) + 'T' + str(temperature) + '.csv')\n",
    "    else:\n",
    "        df = pd.read_csv('./test_data/'+ 'W' + str(width) + 'L' + str(length) + 'T' + str(temperature) + '.csv')\n",
    "    vds_list = df['Vds'].unique()\n",
    "    vgs_list = df['Vgs'].unique()\n",
    "    for vds in vds_list:\n",
    "        min_dist = 99\n",
    "        v_threshold = -100\n",
    "        ids_threshold = -100\n",
    "        for vgs in vgs_list:\n",
    "            point_ids = df.query('(Vds=='+str(vds)+') and (Vgs=='+str(vgs)+')')['Ids'].values[0]\n",
    "            current_dist = math.dist(std_value, [math.log(point_ids)])\n",
    "            if current_dist < min_dist:\n",
    "                min_dist = current_dist\n",
    "                v_threshold = vgs\n",
    "                ids_threshold = point_ids\n",
    "        v_threshold_point_list.append([vds, v_threshold, ids_threshold, width, length, temperature])\n",
    "    return v_threshold_point_list"
   ]
  },
  {
   "cell_type": "code",
   "execution_count": 6,
   "metadata": {},
   "outputs": [],
   "source": [
    "WIDTHS = [10, 20, 35, 50, 100, 1000]\n",
    "LENGTHS = [5, 8, 10, 12]\n",
    "TEMPS = [0, 25, 80]"
   ]
  },
  {
   "cell_type": "code",
   "execution_count": 7,
   "metadata": {},
   "outputs": [
    {
     "data": {
      "text/plain": [
       "426"
      ]
     },
     "execution_count": 7,
     "metadata": {},
     "output_type": "execute_result"
    }
   ],
   "source": [
    "total_v_threshold_point_list = []\n",
    "test_v_threshold_point_list = []\n",
    "for width in WIDTHS:\n",
    "    for length in LENGTHS:\n",
    "        for temperature in TEMPS:\n",
    "            if width == 35 and length == 8 and temperature == 25: # only for presentation sample test dataset\n",
    "                test_v_threshold_point_list += get_vt_point_list(width, length, temperature, False)\n",
    "            else:\n",
    "                total_v_threshold_point_list += get_vt_point_list(width, length, temperature, True)\n",
    "len(test_v_threshold_point_list)\n",
    "len(total_v_threshold_point_list)"
   ]
  },
  {
   "cell_type": "code",
   "execution_count": 8,
   "metadata": {},
   "outputs": [
    {
     "data": {
      "text/html": [
       "<div>\n",
       "<style scoped>\n",
       "    .dataframe tbody tr th:only-of-type {\n",
       "        vertical-align: middle;\n",
       "    }\n",
       "\n",
       "    .dataframe tbody tr th {\n",
       "        vertical-align: top;\n",
       "    }\n",
       "\n",
       "    .dataframe thead th {\n",
       "        text-align: right;\n",
       "    }\n",
       "</style>\n",
       "<table border=\"1\" class=\"dataframe\">\n",
       "  <thead>\n",
       "    <tr style=\"text-align: right;\">\n",
       "      <th></th>\n",
       "      <th>Vds</th>\n",
       "      <th>Vt</th>\n",
       "      <th>Ids</th>\n",
       "      <th>W</th>\n",
       "      <th>L</th>\n",
       "      <th>T</th>\n",
       "    </tr>\n",
       "  </thead>\n",
       "  <tbody>\n",
       "    <tr>\n",
       "      <th>0</th>\n",
       "      <td>0.1</td>\n",
       "      <td>1.0</td>\n",
       "      <td>2.555900e-08</td>\n",
       "      <td>10</td>\n",
       "      <td>5</td>\n",
       "      <td>0</td>\n",
       "    </tr>\n",
       "    <tr>\n",
       "      <th>1</th>\n",
       "      <td>1.0</td>\n",
       "      <td>0.6</td>\n",
       "      <td>2.024900e-08</td>\n",
       "      <td>10</td>\n",
       "      <td>5</td>\n",
       "      <td>0</td>\n",
       "    </tr>\n",
       "    <tr>\n",
       "      <th>2</th>\n",
       "      <td>5.0</td>\n",
       "      <td>0.6</td>\n",
       "      <td>2.271600e-08</td>\n",
       "      <td>10</td>\n",
       "      <td>5</td>\n",
       "      <td>0</td>\n",
       "    </tr>\n",
       "    <tr>\n",
       "      <th>3</th>\n",
       "      <td>10.0</td>\n",
       "      <td>0.6</td>\n",
       "      <td>2.948200e-08</td>\n",
       "      <td>10</td>\n",
       "      <td>5</td>\n",
       "      <td>0</td>\n",
       "    </tr>\n",
       "    <tr>\n",
       "      <th>4</th>\n",
       "      <td>20.0</td>\n",
       "      <td>0.4</td>\n",
       "      <td>2.438200e-08</td>\n",
       "      <td>10</td>\n",
       "      <td>5</td>\n",
       "      <td>0</td>\n",
       "    </tr>\n",
       "  </tbody>\n",
       "</table>\n",
       "</div>"
      ],
      "text/plain": [
       "    Vds   Vt           Ids   W  L  T\n",
       "0   0.1  1.0  2.555900e-08  10  5  0\n",
       "1   1.0  0.6  2.024900e-08  10  5  0\n",
       "2   5.0  0.6  2.271600e-08  10  5  0\n",
       "3  10.0  0.6  2.948200e-08  10  5  0\n",
       "4  20.0  0.4  2.438200e-08  10  5  0"
      ]
     },
     "execution_count": 8,
     "metadata": {},
     "output_type": "execute_result"
    }
   ],
   "source": [
    "vt_dataframe = pd.DataFrame(total_v_threshold_point_list, columns=['Vds', 'Vt', 'Ids', 'W', 'L', 'T'])\n",
    "vt_dataframe.head()"
   ]
  },
  {
   "cell_type": "code",
   "execution_count": 9,
   "metadata": {},
   "outputs": [],
   "source": [
    "vt_dataframe.to_csv('./vt_data/vt_train.csv', index=False)"
   ]
  },
  {
   "cell_type": "code",
   "execution_count": 10,
   "metadata": {},
   "outputs": [
    {
     "data": {
      "text/html": [
       "<div>\n",
       "<style scoped>\n",
       "    .dataframe tbody tr th:only-of-type {\n",
       "        vertical-align: middle;\n",
       "    }\n",
       "\n",
       "    .dataframe tbody tr th {\n",
       "        vertical-align: top;\n",
       "    }\n",
       "\n",
       "    .dataframe thead th {\n",
       "        text-align: right;\n",
       "    }\n",
       "</style>\n",
       "<table border=\"1\" class=\"dataframe\">\n",
       "  <thead>\n",
       "    <tr style=\"text-align: right;\">\n",
       "      <th></th>\n",
       "      <th>Vds</th>\n",
       "      <th>Vt</th>\n",
       "      <th>Ids</th>\n",
       "      <th>W</th>\n",
       "      <th>L</th>\n",
       "      <th>T</th>\n",
       "    </tr>\n",
       "  </thead>\n",
       "  <tbody>\n",
       "    <tr>\n",
       "      <th>0</th>\n",
       "      <td>0.1</td>\n",
       "      <td>1.0</td>\n",
       "      <td>4.056000e-08</td>\n",
       "      <td>35</td>\n",
       "      <td>8</td>\n",
       "      <td>25</td>\n",
       "    </tr>\n",
       "    <tr>\n",
       "      <th>1</th>\n",
       "      <td>1.0</td>\n",
       "      <td>0.8</td>\n",
       "      <td>7.932900e-08</td>\n",
       "      <td>35</td>\n",
       "      <td>8</td>\n",
       "      <td>25</td>\n",
       "    </tr>\n",
       "    <tr>\n",
       "      <th>2</th>\n",
       "      <td>5.0</td>\n",
       "      <td>0.8</td>\n",
       "      <td>8.531500e-08</td>\n",
       "      <td>35</td>\n",
       "      <td>8</td>\n",
       "      <td>25</td>\n",
       "    </tr>\n",
       "    <tr>\n",
       "      <th>3</th>\n",
       "      <td>10.0</td>\n",
       "      <td>0.6</td>\n",
       "      <td>2.512400e-08</td>\n",
       "      <td>35</td>\n",
       "      <td>8</td>\n",
       "      <td>25</td>\n",
       "    </tr>\n",
       "    <tr>\n",
       "      <th>4</th>\n",
       "      <td>20.0</td>\n",
       "      <td>0.6</td>\n",
       "      <td>5.469100e-08</td>\n",
       "      <td>35</td>\n",
       "      <td>8</td>\n",
       "      <td>25</td>\n",
       "    </tr>\n",
       "  </tbody>\n",
       "</table>\n",
       "</div>"
      ],
      "text/plain": [
       "    Vds   Vt           Ids   W  L   T\n",
       "0   0.1  1.0  4.056000e-08  35  8  25\n",
       "1   1.0  0.8  7.932900e-08  35  8  25\n",
       "2   5.0  0.8  8.531500e-08  35  8  25\n",
       "3  10.0  0.6  2.512400e-08  35  8  25\n",
       "4  20.0  0.6  5.469100e-08  35  8  25"
      ]
     },
     "execution_count": 10,
     "metadata": {},
     "output_type": "execute_result"
    }
   ],
   "source": [
    "vt_test_dataframe = pd.DataFrame(test_v_threshold_point_list, columns=['Vds', 'Vt', 'Ids', 'W', 'L', 'T'])\n",
    "vt_test_dataframe.head()"
   ]
  },
  {
   "cell_type": "code",
   "execution_count": 11,
   "metadata": {},
   "outputs": [],
   "source": [
    "vt_test_dataframe.to_csv('./vt_data/vt_test.csv', index=False)"
   ]
  }
 ],
 "metadata": {
  "interpreter": {
   "hash": "3829caa72e4f00bfa838cc8791f96dc30ddd90ae454d4eaf3d8b7ab9877dcc00"
  },
  "kernelspec": {
   "display_name": "Python 3.10.4 ('lg_display')",
   "language": "python",
   "name": "python3"
  },
  "language_info": {
   "codemirror_mode": {
    "name": "ipython",
    "version": 3
   },
   "file_extension": ".py",
   "mimetype": "text/x-python",
   "name": "python",
   "nbconvert_exporter": "python",
   "pygments_lexer": "ipython3",
   "version": "3.10.4"
  },
  "orig_nbformat": 4
 },
 "nbformat": 4,
 "nbformat_minor": 2
}
