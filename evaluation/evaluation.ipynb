{
 "cells": [
  {
   "cell_type": "code",
   "execution_count": 1,
   "metadata": {},
   "outputs": [],
   "source": [
    "import torch\n",
    "import pandas as pd\n",
    "import numpy as np\n",
    "from torch import nn\n",
    "from torch.utils.data import DataLoader\n",
    "from sklearn.preprocessing import StandardScaler"
   ]
  },
  {
   "cell_type": "code",
   "execution_count": 2,
   "metadata": {},
   "outputs": [],
   "source": [
    "if torch.cuda.is_available():\n",
    "    device = 'cuda:0'\n",
    "else:\n",
    "    device = 'cpu'"
   ]
  },
  {
   "cell_type": "code",
   "execution_count": 3,
   "metadata": {},
   "outputs": [
    {
     "data": {
      "text/plain": [
       "VtMLP(\n",
       "  (layers): Sequential(\n",
       "    (0): Linear(in_features=5, out_features=64, bias=True)\n",
       "    (1): ReLU()\n",
       "    (2): Linear(in_features=64, out_features=32, bias=True)\n",
       "    (3): ReLU()\n",
       "    (4): Linear(in_features=32, out_features=1, bias=True)\n",
       "  )\n",
       ")"
      ]
     },
     "execution_count": 3,
     "metadata": {},
     "output_type": "execute_result"
    }
   ],
   "source": [
    "class VtMLP(nn.Module):\n",
    "  '''\n",
    "    Multilayer Perceptron for regression.\n",
    "  '''\n",
    "  def __init__(self):\n",
    "    super().__init__()\n",
    "    self.layers = nn.Sequential(\n",
    "      nn.Linear(5, 64),\n",
    "      nn.ReLU(),\n",
    "      nn.Linear(64, 32),\n",
    "      nn.ReLU(),\n",
    "      nn.Linear(32, 1)\n",
    "    )\n",
    "\n",
    "\n",
    "  def forward(self, x):\n",
    "    '''\n",
    "      Forward pass\n",
    "    '''\n",
    "    return self.layers(x)\n",
    "\n",
    "vt_model = VtMLP()\n",
    "vt_model.load_state_dict(torch.load('../checkpoint/vt_mlp_model.pt'))\n",
    "vt_model.eval() # we pretrained this model... so we'll use this model for inference"
   ]
  },
  {
   "cell_type": "code",
   "execution_count": 4,
   "metadata": {},
   "outputs": [],
   "source": [
    "class FullWithVtDataset(torch.utils.data.Dataset):\n",
    "    def __init__(self, X, y, scale_data=True):\n",
    "        if not torch.is_tensor(X) and not torch.is_tensor(y):\n",
    "            if scale_data:\n",
    "                vt = vt_model(torch.Tensor(X)).detach().numpy()\n",
    "                X = np.concatenate([X, vt], 1)\n",
    "                self.scaler_x = StandardScaler().fit(X)\n",
    "                self.scaler_y = StandardScaler().fit(y)\n",
    "                X = self.scaler_x.transform(X)\n",
    "                y = self.scaler_y.transform(y)\n",
    "            self.X = torch.from_numpy(X)\n",
    "            self.y = torch.from_numpy(y)\n",
    "    \n",
    "    def __len__(self):\n",
    "        return len(self.X)\n",
    "    \n",
    "    def __getitem__(self, i):\n",
    "        return self.X[i], self.y[i]   "
   ]
  },
  {
   "cell_type": "code",
   "execution_count": 5,
   "metadata": {},
   "outputs": [
    {
     "data": {
      "text/plain": [
       "86832"
      ]
     },
     "execution_count": 5,
     "metadata": {},
     "output_type": "execute_result"
    }
   ],
   "source": [
    "full_df = pd.read_csv('../data_full/full_dataset.csv')\n",
    "len(full_df)"
   ]
  },
  {
   "cell_type": "code",
   "execution_count": 6,
   "metadata": {},
   "outputs": [
    {
     "name": "stdout",
     "output_type": "stream",
     "text": [
      "86832\n",
      "86832\n",
      "86832\n"
     ]
    }
   ],
   "source": [
    "full_X = full_df[['W','L','T','Vgs','Vds']].to_numpy()\n",
    "print(len(full_X))\n",
    "full_y = full_df[['Ids']].to_numpy()\n",
    "print(len(full_y))\n",
    "dataset = FullWithVtDataset(full_X, full_y)\n",
    "print(len(dataset))"
   ]
  },
  {
   "cell_type": "code",
   "execution_count": 7,
   "metadata": {},
   "outputs": [],
   "source": [
    "train_set, test_set = torch.utils.data.random_split(dataset, [69466,17366])\n",
    "train_loader = torch.utils.data.DataLoader(train_set, batch_size=32, shuffle=True, num_workers=1)\n",
    "test_loader = torch.utils.data.DataLoader(test_set, batch_size=32, shuffle=False, num_workers=1)"
   ]
  },
  {
   "cell_type": "code",
   "execution_count": 8,
   "metadata": {},
   "outputs": [
    {
     "data": {
      "text/plain": [
       "FullWithVtMLP(\n",
       "  (layers): Sequential(\n",
       "    (0): Linear(in_features=6, out_features=64, bias=True)\n",
       "    (1): ReLU()\n",
       "    (2): Linear(in_features=64, out_features=32, bias=True)\n",
       "    (3): ReLU()\n",
       "    (4): Linear(in_features=32, out_features=1, bias=True)\n",
       "  )\n",
       ")"
      ]
     },
     "execution_count": 8,
     "metadata": {},
     "output_type": "execute_result"
    }
   ],
   "source": [
    "class FullWithVtMLP(nn.Module):\n",
    "    '''\n",
    "    Multilayer Perceptron for regression.\n",
    "    '''\n",
    "    def __init__(self):\n",
    "        super().__init__()\n",
    "        self.layers = nn.Sequential(\n",
    "        nn.Linear(6, 64),\n",
    "        nn.ReLU(),\n",
    "        nn.Linear(64, 32),\n",
    "        nn.ReLU(),\n",
    "        nn.Linear(32, 1)\n",
    "        )\n",
    "\n",
    "\n",
    "    def forward(self, x):\n",
    "        '''\n",
    "        Forward pass\n",
    "        '''\n",
    "        return self.layers(x)\n",
    "\n",
    "mlp = FullWithVtMLP().to(device)\n",
    "mlp.load_state_dict(torch.load('../checkpoint/full_vt_mlp_model_nrmse.pt'))\n",
    "mlp.eval()"
   ]
  },
  {
   "cell_type": "code",
   "execution_count": 17,
   "metadata": {},
   "outputs": [],
   "source": [
    "def NRMSELoss(y_hat, y, eps=1e-8):\n",
    "    log_abs_y_hat = torch.log(torch.abs(y_hat))\n",
    "    log_abs_y = torch.log(torch.abs(y))\n",
    "    log_abs_delta = log_abs_y_hat - log_abs_y\n",
    "    delta = y_hat - y\n",
    "    len_delta = y_hat.size(dim=0)\n",
    "    print(len_delta)\n",
    "    return torch.sqrt((1/len_delta)*torch.sum((log_abs_delta/(log_abs_y+eps))**2)) + torch.sqrt((1/len_delta)*torch.sum((delta/(y+eps))**2))"
   ]
  },
  {
   "cell_type": "code",
   "execution_count": 22,
   "metadata": {},
   "outputs": [
    {
     "name": "stdout",
     "output_type": "stream",
     "text": [
      "17366\n",
      "[[-3.02987019e-06]\n",
      " [ 2.65838316e-04]\n",
      " [ 5.03392982e-07]\n",
      " ...\n",
      " [ 1.31149845e-05]\n",
      " [-3.71779743e-06]\n",
      " [ 9.45247120e-06]]\n",
      "[[1.3121132e-11]\n",
      " [2.8809998e-04]\n",
      " [4.2224963e-11]\n",
      " ...\n",
      " [8.0840964e-06]\n",
      " [1.3121132e-11]\n",
      " [1.3121132e-11]]\n",
      "tensor(960.5919)\n"
     ]
    }
   ],
   "source": [
    "predictions = torch.tensor([], dtype=torch.float).to(device)\n",
    "actual = torch.tensor([], dtype=torch.float).to(device)\n",
    "with torch.no_grad():\n",
    "    mlp.eval()\n",
    "    for data in test_loader:\n",
    "        inputs, values = data\n",
    "        inputs, values = inputs.float().to(device), values.float().to(device)\n",
    "        values = values.reshape((values.shape[0], 1))\n",
    "\n",
    "        outputs = mlp(inputs)\n",
    "        # outputs = dataset.scaler_y.inverse_transform(outputs)\n",
    "        predictions = torch.cat((predictions, outputs), 0)\n",
    "        # values = dataset.scaler_y.inverse_transform(values)\n",
    "        actual = torch.cat((actual, values), 0)\n",
    "    \n",
    "predictions = predictions.cpu().numpy()\n",
    "actual = actual.cpu().numpy()\n",
    "\n",
    "predictions = dataset.scaler_y.inverse_transform(predictions)\n",
    "actual = dataset.scaler_y.inverse_transform(actual)\n",
    "\n",
    "nrmse = NRMSELoss(torch.tensor(predictions), torch.tensor(actual))\n",
    "\n",
    "print(predictions)\n",
    "print(actual)\n",
    "\n",
    "print(nrmse)"
   ]
  },
  {
   "cell_type": "code",
   "execution_count": 12,
   "metadata": {},
   "outputs": [
    {
     "data": {
      "text/plain": [
       "5.531451687204883"
      ]
     },
     "execution_count": 12,
     "metadata": {},
     "output_type": "execute_result"
    }
   ],
   "source": [
    "960.5919/17366*100"
   ]
  }
 ],
 "metadata": {
  "interpreter": {
   "hash": "3829caa72e4f00bfa838cc8791f96dc30ddd90ae454d4eaf3d8b7ab9877dcc00"
  },
  "kernelspec": {
   "display_name": "Python 3.10.4 ('lg_display')",
   "language": "python",
   "name": "python3"
  },
  "language_info": {
   "codemirror_mode": {
    "name": "ipython",
    "version": 3
   },
   "file_extension": ".py",
   "mimetype": "text/x-python",
   "name": "python",
   "nbconvert_exporter": "python",
   "pygments_lexer": "ipython3",
   "version": "3.10.4"
  },
  "orig_nbformat": 4
 },
 "nbformat": 4,
 "nbformat_minor": 2
}
